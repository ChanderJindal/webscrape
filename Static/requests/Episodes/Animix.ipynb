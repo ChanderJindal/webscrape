{
 "cells": [
  {
   "cell_type": "markdown",
   "metadata": {},
   "source": [
    "Exact Button Latest"
   ]
  },
  {
   "cell_type": "markdown",
   "metadata": {},
   "source": [
    "<button class=\"playbutton btn btn-primary\" onclick=\"openiframe(this,1036)\">1036</button>"
   ]
  },
  {
   "cell_type": "markdown",
   "metadata": {},
   "source": [
    "The Button Grid"
   ]
  },
  {
   "cell_type": "markdown",
   "metadata": {},
   "source": [
    "<div id=\"epslistplace\" style=\"display: grid;\">\n",
    "<button class=\"playbutton btn btn-primary\" onclick=\"openiframe(this,1036)\">1036</button>\n",
    "</div>\n"
   ]
  },
  {
   "cell_type": "markdown",
   "metadata": {},
   "source": [
    "Next Ep update Timer"
   ]
  },
  {
   "cell_type": "markdown",
   "metadata": {},
   "source": [
    "<div class=\"epsavailable\">\n",
    "Ep total : <span id=\"epsavailable\">1036</span> <a onclick=\"updatecheck()\" id=\"updatebtn\"><i class=\"glyphicon glyphicon-refresh\"></i></a>\n",
    "<div id=\"playercountdown\">Next: 3d 22h 21m</div></div>"
   ]
  },
  {
   "cell_type": "markdown",
   "metadata": {},
   "source": [
    "Some more items, maybe interesting"
   ]
  },
  {
   "cell_type": "markdown",
   "metadata": {},
   "source": [
    "<div id=\"bottomleft\">\n",
    "<span id=\"genres\">Genres : <a href=\"/?genre=Adventure\">Adventure</a>, <a href=\"/?genre=Comedy\">Comedy</a>, <a href=\"/?genre=Mystery\">Mystery</a>, <a href=\"/?genre=Police\">Police</a>, <a href=\"/?genre=Psychological\">Psychological</a>, <a href=\"/?genre=Shounen\">Shounen</a></span><br>\n",
    "<span id=\"status\">Status : Ongoing</span>\n",
    "<span id=\"animeinfobottom\" style=\"display: block;\"><a id=\"animebtn2\" href=\"/anime/235\">More info</a></span>\n",
    "</div>"
   ]
  },
  {
   "cell_type": "markdown",
   "metadata": {},
   "source": [
    "The Link"
   ]
  },
  {
   "cell_type": "markdown",
   "metadata": {},
   "source": [
    "https://animixplay.to/v1/detective-conan"
   ]
  },
  {
   "cell_type": "code",
   "execution_count": 1,
   "metadata": {},
   "outputs": [],
   "source": [
    "import requests\n",
    "from bs4 import BeautifulSoup"
   ]
  },
  {
   "cell_type": "code",
   "execution_count": 2,
   "metadata": {},
   "outputs": [],
   "source": [
    "Site_Link = \"https://animixplay.to/v1/detective-conan\""
   ]
  },
  {
   "cell_type": "code",
   "execution_count": 3,
   "metadata": {},
   "outputs": [],
   "source": [
    "html_file = requests.get(Site_Link)\n"
   ]
  },
  {
   "cell_type": "code",
   "execution_count": 4,
   "metadata": {},
   "outputs": [
    {
     "data": {
      "text/plain": [
       "<Response [403]>"
      ]
     },
     "execution_count": 4,
     "metadata": {},
     "output_type": "execute_result"
    }
   ],
   "source": [
    "html_file"
   ]
  },
  {
   "cell_type": "markdown",
   "metadata": {},
   "source": []
  },
  {
   "cell_type": "code",
   "execution_count": 5,
   "metadata": {},
   "outputs": [],
   "source": [
    "soup = BeautifulSoup(html_file.text,features=\"lxml\")"
   ]
  },
  {
   "cell_type": "code",
   "execution_count": 6,
   "metadata": {},
   "outputs": [
    {
     "data": {
      "text/plain": [
       "<!DOCTYPE html>\n",
       "<!--[if lt IE 7]> <html class=\"no-js ie6 oldie\" lang=\"en-US\"> <![endif]--><!--[if IE 7]>    <html class=\"no-js ie7 oldie\" lang=\"en-US\"> <![endif]--><!--[if IE 8]>    <html class=\"no-js ie8 oldie\" lang=\"en-US\"> <![endif]--><!--[if gt IE 8]><!--><html class=\"no-js\" lang=\"en-US\"> <!--<![endif]-->\n",
       "<head>\n",
       "<title>Access denied | animixplay.to used Cloudflare to restrict access</title>\n",
       "<meta charset=\"utf-8\"/>\n",
       "<meta content=\"text/html; charset=utf-8\" http-equiv=\"Content-Type\"/>\n",
       "<meta content=\"IE=Edge,chrome=1\" http-equiv=\"X-UA-Compatible\"/>\n",
       "<meta content=\"noindex, nofollow\" name=\"robots\"/>\n",
       "<meta content=\"width=device-width,initial-scale=1\" name=\"viewport\"/>\n",
       "<link href=\"/cdn-cgi/styles/main.css\" id=\"cf_styles-css\" media=\"screen,projection\" rel=\"stylesheet\" type=\"text/css\"/>\n",
       "<script defer=\"\" src=\"https://api.radar.cloudflare.com/beacon.js\"></script>\n",
       "</head>\n",
       "<body>\n",
       "<div id=\"cf-wrapper\">\n",
       "<div class=\"cf-alert cf-alert-error cf-cookie-error hidden\" data-translate=\"enable_cookies\" id=\"cookie-alert\">Please enable cookies.</div>\n",
       "<div class=\"p-0\" id=\"cf-error-details\">\n",
       "<header class=\"mx-auto pt-10 lg:pt-6 lg:px-8 w-240 lg:w-full mb-15 antialiased\">\n",
       "<h1 class=\"inline-block md:block mr-2 md:mb-2 font-light text-60 md:text-3xl text-black-dark leading-tight\">\n",
       "<span data-translate=\"error\">Error</span>\n",
       "<span>1020</span>\n",
       "</h1>\n",
       "<span class=\"inline-block md:block heading-ray-id font-mono text-15 lg:text-sm lg:leading-relaxed\">Ray ID: 6d8d1c3eddff859f •</span>\n",
       "<span class=\"inline-block md:block heading-ray-id font-mono text-15 lg:text-sm lg:leading-relaxed\">2022-02-05 15:18:16 UTC</span>\n",
       "<h2 class=\"text-gray-600 leading-1.3 text-3xl lg:text-2xl font-light\">Access denied</h2>\n",
       "</header>\n",
       "<section class=\"w-240 lg:w-full mx-auto mb-8 lg:px-8\">\n",
       "<div class=\"w-1/2 md:w-full\" id=\"what-happened-section\">\n",
       "<h2 class=\"text-3xl leading-tight font-normal mb-4 text-black-dark antialiased\" data-translate=\"what_happened\">What happened?</h2>\n",
       "<p>This website is using a security service to protect itself from online attacks.</p>\n",
       "</div>\n",
       "</section>\n",
       "<div class=\"cf-error-footer cf-wrapper w-240 lg:w-full py-10 sm:py-4 sm:px-8 mx-auto text-center sm:text-left border-solid border-0 border-t border-gray-300\">\n",
       "<p class=\"text-13\">\n",
       "<span class=\"cf-footer-item sm:block sm:mb-1\">Cloudflare Ray ID: <strong class=\"font-semibold\">6d8d1c3eddff859f</strong></span>\n",
       "<span class=\"cf-footer-separator sm:hidden\">•</span>\n",
       "<span class=\"cf-footer-item sm:block sm:mb-1\"><span>Your IP</span>: 122.177.105.11</span>\n",
       "<span class=\"cf-footer-separator sm:hidden\">•</span>\n",
       "<span class=\"cf-footer-item sm:block sm:mb-1\"><span>Performance &amp; security by</span> <a href=\"https://www.cloudflare.com/5xx-error-landing\" id=\"brand_link\" rel=\"noopener noreferrer\" target=\"_blank\">Cloudflare</a></span>\n",
       "</p>\n",
       "</div>\n",
       "</div>\n",
       "</div>\n",
       "<script type=\"text/javascript\">\n",
       "  window._cf_translation = {};\n",
       "  \n",
       "  \n",
       "</script>\n",
       "</body>\n",
       "</html>"
      ]
     },
     "execution_count": 6,
     "metadata": {},
     "output_type": "execute_result"
    }
   ],
   "source": [
    "soup"
   ]
  },
  {
   "cell_type": "markdown",
   "metadata": {},
   "source": [
    "<div id=\"lowerplayerpage\">\n",
    "<div id=\"aligncenter\" style=\"text-align: left; margin-top: unset;\">\n",
    "<div id=\"streamtypecontainer\">\n",
    "<div id=\"streamtype\">GOGO Stream</div><div id=\"showrecomendbtn\" onclick=\"showrecomendmenu();\" style=\"display: inline-block;\"><i class=\"glyphicon glyphicon-cog\"></i> Change</div>\n",
    "<div id=\"sharebtn\"><i class=\"glyphicon glyphicon-share-alt\"></i> <span id=\"shareText\" style=\"display: inline;\">Share</span></div>\n",
    "<div id=\"openreport\" onclick=\"reportError()\" style=\"display: block;\"><i class=\"glyphicon glyphicon-exclamation-sign\"></i> <span class=\"reportText\">Report</span></div>\n",
    "<div id=\"reloadbtn\" style=\"display: block;\"><i class=\"glyphicon glyphicon-repeat\"></i> <span class=\"reportText\">Reload</span></div>\n",
    "<div id=\"screenshotbtn\" style=\"display: block;\"><i class=\"glyphicon glyphicon-camera\"></i></div><div id=\"widescreenbtn\"><i class=\"glyphicon glyphicon-fullscreen\"></i></div></div>\n",
    "<a id=\"animebtn\" href=\"/anime/235\" style=\"display: inline;\"><svg stroke=\"currentColor\" fill=\"none\" xmlns=\"http://www.w3.org/2000/svg\" viewBox=\"0 0 24 24\" height=\"25\" width=\"25\" id=\"foldersvg\"><path stroke-linecap=\"round\" stroke-linejoin=\"round\" stroke-width=\"2\" d=\"M5 19a2 2 0 01-2-2V7a2 2 0 012-2h4l2 2h4a2 2 0 012 2v1M5 19h14a2 2 0 002-2v-5a2 2 0 00-2-2H9a2 2 0 00-2 2v5a2 2 0 01-2 2z\"></path></svg></a>\n",
    "<span class=\"animetitle\">Detective Conan</span><button id=\"trackbtn\" onclick=\"startTrack();\"><i class=\"glyphicon glyphicon-plus\"></i> Watchlist</button> <button id=\"followbtn\" onclick=\"followtoggle();\" style=\"display: inline;\"><i class=\"glyphicon glyphicon-bell\"></i> Follow</button><br>\n",
    "<div id=\"animeimage\" style=\"display: none;\">\n",
    "<svg class=\"spinner\" width=\"75px\" height=\"75px\" viewBox=\"0 0 66 66\" xmlns=\"http://www.w3.org/2000/svg\">\n",
    "<circle class=\"path\" fill=\"none\" stroke-width=\"6\" stroke-linecap=\"round\" cx=\"33\" cy=\"33\" r=\"30\"></circle>\n",
    "</svg>\n",
    "</div>\n",
    "<span id=\"notice\" style=\"display: none;\"><br><br><br>Loading...<br><br><br></span>\n",
    "</div>\n",
    "\n",
    "<div id=\"flexbottom\" style=\"display: flex;\">\n",
    "<div id=\"bottomleft\">\n",
    "<span id=\"genres\">Genres : <a href=\"/?genre=Adventure\">Adventure</a>, <a href=\"/?genre=Comedy\">Comedy</a>, <a href=\"/?genre=Mystery\">Mystery</a>, <a href=\"/?genre=Police\">Police</a>, <a href=\"/?genre=Psychological\">Psychological</a>, <a href=\"/?genre=Shounen\">Shounen</a></span><br>\n",
    "<span id=\"status\">Status : Ongoing</span>\n",
    "<span id=\"animeinfobottom\" style=\"display: block;\"><a id=\"animebtn2\" href=\"/anime/235\">More info</a></span>\n",
    "</div>\n",
    "<div class=\"epsavailable\">\n",
    "Ep total : <span id=\"epsavailable\">1036</span> <a onclick=\"updatecheck()\" id=\"updatebtn\"><i class=\"glyphicon glyphicon-refresh\"></i></a>\n",
    "<div id=\"playercountdown\">Next: 3d 22h 7m</div></div>\n",
    "</div>\n",
    "</div>"
   ]
  },
  {
   "cell_type": "code",
   "execution_count": 7,
   "metadata": {},
   "outputs": [],
   "source": [
    "LowerPage = soup.find('div', id=\"lowerplayerpage\")"
   ]
  },
  {
   "cell_type": "code",
   "execution_count": 8,
   "metadata": {},
   "outputs": [
    {
     "name": "stdout",
     "output_type": "stream",
     "text": [
      "None\n"
     ]
    }
   ],
   "source": [
    "print(LowerPage)"
   ]
  },
  {
   "cell_type": "code",
   "execution_count": 9,
   "metadata": {},
   "outputs": [
    {
     "ename": "AttributeError",
     "evalue": "'NoneType' object has no attribute 'find_all'",
     "output_type": "error",
     "traceback": [
      "\u001b[1;31m---------------------------------------------------------------------------\u001b[0m",
      "\u001b[1;31mAttributeError\u001b[0m                            Traceback (most recent call last)",
      "\u001b[1;32m~\\AppData\\Local\\Temp\\ipykernel_3880\\2745653513.py\u001b[0m in \u001b[0;36m<module>\u001b[1;34m\u001b[0m\n\u001b[1;32m----> 1\u001b[1;33m \u001b[0mEpGrid\u001b[0m \u001b[1;33m=\u001b[0m \u001b[0mLowerPage\u001b[0m\u001b[1;33m.\u001b[0m\u001b[0mfind_all\u001b[0m\u001b[1;33m(\u001b[0m\u001b[1;34m'div'\u001b[0m \u001b[1;33m,\u001b[0m\u001b[0mid\u001b[0m\u001b[1;33m=\u001b[0m\u001b[1;34m\"epslistplace\"\u001b[0m \u001b[1;33m)\u001b[0m\u001b[1;33m\u001b[0m\u001b[1;33m\u001b[0m\u001b[0m\n\u001b[0m",
      "\u001b[1;31mAttributeError\u001b[0m: 'NoneType' object has no attribute 'find_all'"
     ]
    }
   ],
   "source": [
    "EpGrid = LowerPage.find_all('div' ,id=\"epslistplace\" )"
   ]
  },
  {
   "cell_type": "markdown",
   "metadata": {},
   "source": [
    "So, the website forbids Web Scraping. Not gonna progress further"
   ]
  }
 ],
 "metadata": {
  "interpreter": {
   "hash": "2477ad58ea0fabfad8a9abd93eeb78f42da272d8f9bd878188fd1171b935f0f3"
  },
  "kernelspec": {
   "display_name": "Python 3.7.8 64-bit",
   "language": "python",
   "name": "python3"
  },
  "language_info": {
   "codemirror_mode": {
    "name": "ipython",
    "version": 3
   },
   "file_extension": ".py",
   "mimetype": "text/x-python",
   "name": "python",
   "nbconvert_exporter": "python",
   "pygments_lexer": "ipython3",
   "version": "3.7.8"
  },
  "orig_nbformat": 4
 },
 "nbformat": 4,
 "nbformat_minor": 2
}
