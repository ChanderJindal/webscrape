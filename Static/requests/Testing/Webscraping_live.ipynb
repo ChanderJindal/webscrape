{
 "cells": [
  {
   "cell_type": "code",
   "execution_count": null,
   "metadata": {},
   "outputs": [],
   "source": [
    "import requests\n",
    "from bs4 import BeautifulSoup"
   ]
  },
  {
   "cell_type": "code",
   "execution_count": null,
   "metadata": {},
   "outputs": [],
   "source": [
    "Site_Link = \"https://www.timesjobs.com/candidate/job-search.html?searchType=personalizedSearch&from=submit&txtKeywords=python&txtLocation=\"\n"
   ]
  },
  {
   "cell_type": "code",
   "execution_count": null,
   "metadata": {},
   "outputs": [],
   "source": [
    "html_file = requests.get(Site_Link)\n",
    "#yes for this you need to be online and it may fail once  or twice\n"
   ]
  },
  {
   "cell_type": "code",
   "execution_count": null,
   "metadata": {},
   "outputs": [],
   "source": [
    "html_file"
   ]
  },
  {
   "cell_type": "code",
   "execution_count": null,
   "metadata": {},
   "outputs": [],
   "source": [
    "html_text = html_file.text"
   ]
  },
  {
   "cell_type": "code",
   "execution_count": null,
   "metadata": {},
   "outputs": [],
   "source": [
    "html_text"
   ]
  },
  {
   "cell_type": "code",
   "execution_count": null,
   "metadata": {},
   "outputs": [],
   "source": [
    "import pprint\n",
    "pprint.pprint(html_text)"
   ]
  },
  {
   "cell_type": "code",
   "execution_count": null,
   "metadata": {},
   "outputs": [],
   "source": [
    "soup = BeautifulSoup(html_text,features=\"lxml\")\n",
    "\n",
    "soup"
   ]
  },
  {
   "cell_type": "markdown",
   "metadata": {},
   "source": [
    "<h3 class=\"joblist-comp-name\">\n",
    "    Pure Tech Codex Private Limited\n",
    "    \n",
    "    </h3>"
   ]
  },
  {
   "cell_type": "code",
   "execution_count": null,
   "metadata": {},
   "outputs": [],
   "source": [
    "Company_Names = soup.find_all('h3', class_ =\"joblist-comp-name\" )\n",
    "for Name in Company_Names:\n",
    "    print(Name.text)"
   ]
  },
  {
   "cell_type": "markdown",
   "metadata": {},
   "source": [
    "<ul class=\"list-job-dtl clearfix\">\n",
    "  \n",
    "  \n",
    "    <li>\n",
    "      <label>Job Description:</label>\n",
    "Job Description: 2 to 3 Years experience in Python.Expert in Python ,  with knowledge of at least one Python web framework  Flask ,  Django etc.Expert in server programming.Go... <a href=\"https://www.timesjobs.com/job-detail/python-pure-tech-codex-private-limited-pune-2-to-3-yrs-jobid-OHwfF0d6EhNzpSvf__PLUS__uAgZw==&amp;source=srp\" target=\"_blank\">More Details</a>\n",
    "      </li>\n",
    "    \n",
    "  <li>\n",
    "    <label>KeySkills:</label>\n",
    "    <span class=\"srp-skills\">\n",
    "      \n",
    "          rest  ,  <strong class=\"blkclor\">python</strong>  ,  database  ,  django  ,  debugging  ,  mongodb\n",
    "        \n",
    "      </span> </li>\n",
    "\t\n",
    "          \n",
    "          \n",
    "<!--\n",
    "            <li>\n",
    "              <i class=\"material-icons\">location_on</i>\n",
    "              Pune\n",
    "              </li>\n",
    "-->\n",
    "            \n",
    "          \n",
    "</ul>"
   ]
  },
  {
   "cell_type": "code",
   "execution_count": null,
   "metadata": {},
   "outputs": [],
   "source": [
    "Company_Names = soup.find_all('h3', class_ =\"joblist-comp-name\")\n",
    "# check rest at https://www.youtube.com/watch?v=XVv6mJpFOb0\n",
    "Job_Desc = soup.find_all('ul' ,class_=\"list-job-dtl clearfix\")\n",
    "for Name , desc in Company_Names, Job_Desc:\n",
    "    print(Name.text , desc.li.text)"
   ]
  },
  {
   "cell_type": "markdown",
   "metadata": {},
   "source": [
    "<li class=\"clearfix job-bx wht-shd-bx\">\n",
    "<header class=\"clearfix\">\n",
    "<!-- \n",
    "-->\n",
    "<!--  -->\n",
    "  <h2>       \n",
    "    <a href=\"https://www.timesjobs.com/job-detail/python-pure-tech-codex-private-limited-pune-2-to-3-yrs-jobid-OHwfF0d6EhNzpSvf__PLUS__uAgZw==&amp;source=srp\" target=\"_blank\" onclick=\"logViewUSBT('view','66840090','rest  ,  python  ,  database  ,  django  ,  debugging  ,  mongodb','Pune','2 - 3','IT Software : Software Products &amp; Services','1' )\">\n",
    "      <strong class=\"blkclor\">Python</strong></a> </h2>\n",
    "  <h3 class=\"joblist-comp-name\">\n",
    "    Pure Tech Codex Private Limited\n",
    "    </h3>\n",
    "</header>\n",
    "\t        <ul class=\"top-jd-dtl clearfix\">\n",
    "        <li><i class=\"material-icons\">card_travel</i>2 - 3 yrs</li>\n",
    "\t\t\t\t<li>\n",
    "              <i class=\"material-icons\">location_on</i>\n",
    "              <span title=\"Pune\">Pune</span>\n",
    "              </li>        \n",
    "      </ul>\n",
    "<ul class=\"list-job-dtl clearfix\">\n",
    "    <li>\n",
    "      <label>Job Description:</label>\n",
    "Job Description: 2 to 3 Years experience in Python.Expert in Python ,  with knowledge of at least one Python web framework  Flask ,  Django etc.Expert in server programming.Go... <a href=\"https://www.timesjobs.com/job-detail/python-pure-tech-codex-private-limited-pune-2-to-3-yrs-jobid-OHwfF0d6EhNzpSvf__PLUS__uAgZw==&amp;source=srp\" target=\"_blank\">More Details</a>\n",
    "      </li>\n",
    "  <li>\n",
    "    <label>KeySkills:</label>\n",
    "    <span class=\"srp-skills\">\n",
    "          rest  ,  <strong class=\"blkclor\">python</strong>  ,  database  ,  django  ,  debugging  ,  mongodb\n",
    "      </span> </li>     \n",
    "<!--\n",
    "            <li>\n",
    "              <i class=\"material-icons\">location_on</i>\n",
    "              Pune\n",
    "              </li>\n",
    "-->\n",
    "</ul>\n",
    "  <div class=\"list-job-bt clearfix\">\n",
    "    <div class=\"list-action\">\n",
    "      <div class=\"applied-dtl clearfix\" id=\"showPostApplyData_66840090\">\n",
    "          <a href=\"javascript:callExtJobApply('66840090','adId=OHwfF0d6EhNzpSvf__PLUS__uAgZw==&amp;compName=Career Progress Consultants','TJPFSRP');\" onclick=\"trackClickEvent('View_AND_Apply_SRP','from_srp_externalJobs');logViewUSBT('apply','66840090','rest  ,  python  ,  database  ,  django  ,  debugging  ,  mongodb','Pune','2 - 3','IT Software : Software Products &amp; Services','1')\" class=\"waves-effect waves-light btn\">Apply</a>  \n",
    "\t\t  <span class=\"jobs-status clearfix\">\n",
    "<!--\n",
    "       <i class=\"material-icons trnding-up\" title=\"Recently posted job, Recruiter is actively looking for candidates\">check_circle</i>\n",
    "        \n",
    "-->\n",
    "    </span>\n",
    "    <span class=\"sim-posted\">\n",
    "\t\t\t<span>Posted 6 days ago</span>\n",
    "        </span>\n",
    "      </div>\n",
    "      </div>\n",
    "     </div>\n",
    "        </li>"
   ]
  },
  {
   "cell_type": "markdown",
   "metadata": {},
   "source": [
    "The one above is full info of 1 job in description, it's put here physically to view the format and pick the items/tags needed\n"
   ]
  },
  {
   "cell_type": "code",
   "execution_count": null,
   "metadata": {},
   "outputs": [],
   "source": [
    "job = soup.find('li', class_=\"clearfix job-bx wht-shd-bx\")\n",
    "#li is list , it's a list which contains all the info about the job described on site\n",
    "job"
   ]
  },
  {
   "cell_type": "code",
   "execution_count": null,
   "metadata": {},
   "outputs": [],
   "source": [
    "link = job.a\n",
    "print(link)"
   ]
  },
  {
   "cell_type": "code",
   "execution_count": null,
   "metadata": {},
   "outputs": [],
   "source": [
    "title = job.find('h3' ,class_=\"joblist-comp-name\").text.strip()\n",
    "print(title,type(title))"
   ]
  },
  {
   "cell_type": "code",
   "execution_count": null,
   "metadata": {},
   "outputs": [],
   "source": [
    "KeySkills = job.find_all('li')\n",
    "for i in KeySkills:\n",
    "    print(i,end=\"\\n!!!!!!!!!!!!!1\\n\")"
   ]
  },
  {
   "cell_type": "code",
   "execution_count": null,
   "metadata": {},
   "outputs": [],
   "source": [
    "JobDesc = KeySkills[-2]#it's 2nd last\n",
    "KeySkills = KeySkills[-1]#it's last\n",
    "\n",
    "JobDesc , KeySkills"
   ]
  },
  {
   "cell_type": "code",
   "execution_count": null,
   "metadata": {},
   "outputs": [],
   "source": [
    "JobDesc.text.strip()"
   ]
  },
  {
   "cell_type": "code",
   "execution_count": null,
   "metadata": {},
   "outputs": [],
   "source": [
    "JobDesc = list(JobDesc.text.replace('\\n','').replace('\\r','').split(':'))\n",
    "Description = JobDesc[-1]"
   ]
  },
  {
   "cell_type": "code",
   "execution_count": null,
   "metadata": {},
   "outputs": [],
   "source": [
    "Description"
   ]
  },
  {
   "cell_type": "code",
   "execution_count": null,
   "metadata": {},
   "outputs": [],
   "source": [
    "KeySkills.text.replace('  ','').replace('\\n','').replace('\\r','')"
   ]
  },
  {
   "cell_type": "code",
   "execution_count": null,
   "metadata": {},
   "outputs": [],
   "source": [
    "type(KeySkills)"
   ]
  },
  {
   "cell_type": "code",
   "execution_count": null,
   "metadata": {},
   "outputs": [],
   "source": [
    "temp = list(KeySkills.text.replace('  ','').replace('\\n','').replace('\\r','').split(':'))"
   ]
  },
  {
   "cell_type": "code",
   "execution_count": null,
   "metadata": {},
   "outputs": [],
   "source": [
    "temp"
   ]
  },
  {
   "cell_type": "code",
   "execution_count": null,
   "metadata": {},
   "outputs": [],
   "source": [
    "temp[-1] = list(temp[-1].split(','))"
   ]
  },
  {
   "cell_type": "code",
   "execution_count": null,
   "metadata": {},
   "outputs": [],
   "source": [
    "temp"
   ]
  },
  {
   "cell_type": "code",
   "execution_count": null,
   "metadata": {},
   "outputs": [],
   "source": [
    "print(temp[0], \"are :- \")\n",
    "for i in temp[-1]:\n",
    "    print(i)"
   ]
  },
  {
   "cell_type": "code",
   "execution_count": null,
   "metadata": {},
   "outputs": [],
   "source": [
    "Skills_Req = temp[-1]"
   ]
  },
  {
   "cell_type": "markdown",
   "metadata": {},
   "source": [
    "<span class=\"sim-posted\">\n",
    "\t\t\t<span>Posted 6 days ago</span> \n",
    "        </span>"
   ]
  },
  {
   "cell_type": "markdown",
   "metadata": {},
   "source": [
    "This above is to see when was the job posted"
   ]
  },
  {
   "cell_type": "code",
   "execution_count": null,
   "metadata": {},
   "outputs": [],
   "source": [
    "Posted = job.find('span' , class_=\"sim-posted\")"
   ]
  },
  {
   "cell_type": "code",
   "execution_count": null,
   "metadata": {},
   "outputs": [],
   "source": [
    "Posted"
   ]
  },
  {
   "cell_type": "code",
   "execution_count": null,
   "metadata": {},
   "outputs": [],
   "source": [
    "Posted = Posted.text.replace('\\n','').strip()"
   ]
  },
  {
   "cell_type": "code",
   "execution_count": null,
   "metadata": {},
   "outputs": [],
   "source": [
    "Posted"
   ]
  },
  {
   "cell_type": "code",
   "execution_count": null,
   "metadata": {},
   "outputs": [],
   "source": [
    "print(f'''\n",
    "Company Name: {title}\n",
    "Skills Required: {Skills_Req}\n",
    "Job Description: {Description}\n",
    "{Posted}\n",
    "''')"
   ]
  },
  {
   "cell_type": "markdown",
   "metadata": {},
   "source": [
    "#Now Trying on a bigger lvl"
   ]
  },
  {
   "cell_type": "code",
   "execution_count": null,
   "metadata": {},
   "outputs": [],
   "source": [
    "jobs = soup.find_all('li', class_=\"clearfix job-bx wht-shd-bx\")\n",
    "\n",
    "for j in jobs:\n",
    "    print(j,end=\"\\n\\n\\n\")"
   ]
  },
  {
   "cell_type": "code",
   "execution_count": null,
   "metadata": {},
   "outputs": [],
   "source": [
    "j = jobs[0]\n",
    "j"
   ]
  },
  {
   "cell_type": "code",
   "execution_count": null,
   "metadata": {},
   "outputs": [],
   "source": [
    "def remove_rn(s):\n",
    "    return s.replace('\\r','').replace('\\n','').strip()"
   ]
  },
  {
   "cell_type": "code",
   "execution_count": null,
   "metadata": {},
   "outputs": [],
   "source": [
    "def remove_rn_lst(lst):\n",
    "    for i in range(len(lst)):\n",
    "        lst[i] = remove_rn(lst[i])\n",
    "    return lst"
   ]
  },
  {
   "cell_type": "code",
   "execution_count": null,
   "metadata": {},
   "outputs": [],
   "source": [
    "def check_dated(date):\n",
    "    lst_temp = date.split(' ')\n",
    "    if lst_temp[1] == \"few\":\n",
    "        return True\n",
    "    try:\n",
    "        val = int(lst_temp[1])\n",
    "        if val < 11:\n",
    "            return True\n",
    "        return False\n",
    "    except:\n",
    "        return False\n",
    "    return False\n",
    "    # format     Posted 6 days ago\n",
    "    #     Posted few days ago\n",
    "    #    Posted a month ago\n"
   ]
  },
  {
   "cell_type": "markdown",
   "metadata": {},
   "source": [
    "#For the Link!"
   ]
  },
  {
   "cell_type": "code",
   "execution_count": null,
   "metadata": {},
   "outputs": [],
   "source": [
    "tempJ = jobs[0]\n",
    "print(tempJ.find('h2').a[\"href\"])\n"
   ]
  },
  {
   "cell_type": "code",
   "execution_count": null,
   "metadata": {},
   "outputs": [],
   "source": []
  },
  {
   "cell_type": "code",
   "execution_count": 149,
   "metadata": {},
   "outputs": [
    {
     "name": "stdout",
     "output_type": "stream",
     "text": [
      "\n",
      "    Company Name: Pure Tech Codex Private Limited\n",
      "    Skills Required: ['rest', 'python', 'database', 'django', 'debugging', 'mongodb']\n",
      "    Job Description:  2 to 3 Years experience in Python.Expert in Python ,  with knowledge of at least one Python web framework  Flask ,  Django etc.Expert in server programming.Go.\n",
      "    Link: https://www.timesjobs.com/job-detail/python-pure-tech-codex-private-limited-pune-2-to-3-yrs-jobid-OHwfF0d6EhNzpSvf__PLUS__uAgZw==&source=srp\n",
      "    Posted 6 days ago\n",
      "    \n",
      "\n",
      "    Company Name: Surya Informatics Solutions Pvt. Ltd.\n",
      "    Skills Required: ['python', 'web technologies', 'linux', 'mobile', 'mysql', 'angularjs', 'javascript']\n",
      "    Job Description:  FRESHERS Your RoleUnderstand requirements and participate in project road map discussions in order to design ,  estimate ,  and deliver.\n",
      "    Link: https://www.timesjobs.com/job-detail/python-surya-informatics-solutions-pvt-ltd-chennai-0-to-3-yrs-jobid-UVlLes58wutzpSvf__PLUS__uAgZw==&source=srp\n",
      "    Posted few days ago\n",
      "    \n",
      "\n",
      "    Company Name: Gemini Solutions\n",
      "    Skills Required: ['python', 'mobile', 'svn', 'nosql', 'python scripting', 'git', 'api', 'sql database']\n",
      "    Job Description: 4  Years GurgaonB.TechRequired Skills 4   years of software quality assurance experienceExperience on creating Framework For Test Automation.Good knowledge of Python Scripting.\n",
      "    Link: https://www.timesjobs.com/job-detail/qa-python-python-sdet-gemini-solutions-gurgaon-4-to-7-yrs-jobid-eGMLzwOk2QlzpSvf__PLUS__uAgZw==&source=srp\n",
      "    Posted 4 days ago\n",
      "    \n",
      "\n",
      "    Company Name: Kumar and Associates     (More Jobs)\n",
      "    Skills Required: ['python', 'django']\n",
      "    Job Description:  Max 6 LPAWorking.\n",
      "    Link: https://www.timesjobs.com/job-detail/python-developer-kumar-and-associates-ahmedabad-1-to-5-yrs-jobid-udquhR6g__PLUS__BdzpSvf__PLUS__uAgZw==&source=srp\n",
      "    Posted 1 day ago\n",
      "    \n",
      "\n",
      "    Company Name: TEAMPLUS STAFFING SOLUTION PVT. LTD.\n",
      "    Skills Required: ['python', 'python scripting', 'shell scripting', 'unix']\n",
      "    Job Description: IndustryITPrevious Work Experience6 -9 YRSSalaryAs Per IndustryJob FunctionTechnologySkill 4  years of Python scripting- need framework development experience  ( 3 / 5 )  3  y.\n",
      "    Link: https://www.timesjobs.com/job-detail/python-developer-teamplus-staffing-solution-pvt-ltd-pune-6-to-9-yrs-jobid-bjMgIT2lz6JzpSvf__PLUS__uAgZw==&source=srp\n",
      "    Posted 6 days ago\n",
      "    \n",
      "\n",
      "    Company Name: TandA HR Solutions\n",
      "    Skills Required: ['Django framework', 'Python Developer', 'core python']\n",
      "    Job Description: Hiring for Python Developer for Females in MNC Company for Mohali locationProfile  Python DeveloperExperience  3 to 5 yearsLocation  MohaliGender Preference  FemaleQualificati.\n",
      "    Link: https://www.timesjobs.com/job-detail/python-developer-tanda-hr-solutions-mohali-3-to-5-yrs-jobid-GTT0grHZP1tzpSvf__PLUS__uAgZw==&source=srp\n",
      "    Posted 2 days ago\n",
      "    \n",
      "\n",
      "    Company Name: HARMAN INTERNATIONAL\n",
      "    Skills Required: ['python', 'os', 'linux', 'middleware']\n",
      "    Job Description: 1. Should have 3-5 years of experience in test automation and coding2. Should have knowledge on automotive and infotainment systems2. Should be well ver.\n",
      "    Link: https://www.timesjobs.com/job-detail/python-automation-harman-international-bengaluru-bangalore-3-to-5-yrs-jobid-kM8OYB2gyo5zpSvf__PLUS__uAgZw==&source=srp\n",
      "    Posted 1 day ago\n",
      "    \n",
      "\n",
      "    Company Name: TECHNOPARK TRIVANDRUM\n",
      "    Skills Required: ['python', 'oops', 'storage']\n",
      "    Job Description: We are looking for python developers to join our engineering team and will be responsible for creating dynamic software products.Responsible for , Writing reusable code in the.\n",
      "    Link: https://www.timesjobs.com/job-detail/python-developer-technopark-trivandrum-thiruvananthapuram-2-to-5-yrs-jobid-XWMcyBAeEXhzpSvf__PLUS__uAgZw==&source=srp\n",
      "    Posted 3 days ago\n",
      "    \n",
      "\n",
      "    Company Name: TandA HR Solutions\n",
      "    Skills Required: ['python', 'django', 'sql']\n",
      "    Job Description: Django or PyCharm frameworkDockersSQLOpenShi.\n",
      "    Link: https://www.timesjobs.com/job-detail/python-developer-tanda-hr-solutions-gurgaon-0-to-3-yrs-jobid-dMtCdFUMRY5zpSvf__PLUS__uAgZw==&source=srp\n",
      "    Posted 3 days ago\n",
      "    \n",
      "\n",
      "    Company Name: BRICKRED TECHNOLOGIES PVT. LTD.\n",
      "    Skills Required: ['image processing', 'python', 'opencv']\n",
      "    Job Description: 1. Proficient in python and numerical programming ,  especially numpy ,  opencv ,  sckit-image ,  sklearn.2. Basic understanding in 3D image processin.\n",
      "    Link: https://www.timesjobs.com/job-detail/python-developer-brickred-technologies-pvt-ltd-0-to-3-yrs-jobid-gFvdvfbX1XdzpSvf__PLUS__uAgZw==&source=srp\n",
      "    Posted 6 days ago\n",
      "    \n",
      "\n",
      "    Company Name: BRICKRED TECHNOLOGIES PVT. LTD.\n",
      "    Skills Required: ['image processing', 'python', 'opencv']\n",
      "    Job Description: 1. Proficient in python and numerical programming ,  especially numpy ,  opencv ,  sckit-image ,  sklearn.2. Basic understanding in 3D image processing ,  especially warping3..\n",
      "    Link: https://www.timesjobs.com/job-detail/python-developer-brickred-technologies-pvt-ltd-0-to-3-yrs-jobid-p9__SLASH__whk__PLUS____PLUS__Ie1zpSvf__PLUS__uAgZw==&source=srp\n",
      "    Posted 6 days ago\n",
      "    \n",
      "\n",
      "    Company Name: BRICKRED TECHNOLOGIES PVT. LTD.\n",
      "    Skills Required: ['image processing', 'python', 'opencv']\n",
      "    Job Description: JD1. Proficient in python and numerical programming ,  especially numpy ,  opencv ,  sckit-image ,  sklearn.2. Basic understanding in 3D image processing ,  especially warping.\n",
      "    Link: https://www.timesjobs.com/job-detail/python-developer-brickred-technologies-pvt-ltd-0-to-3-yrs-jobid-LHhOOHnAobhzpSvf__PLUS__uAgZw==&source=srp\n",
      "    Posted 6 days ago\n",
      "    \n",
      "\n",
      "    Company Name: Visionpix Technologies LLP\n",
      "    Skills Required: ['python', 'oops', 'technical skills', '']\n",
      "    Job Description: Strong Python developer wh.\n",
      "    Link: https://www.timesjobs.com/job-detail/python-developer-visionpix-technologies-llp-bengaluru-bangalore-4-to-10-yrs-jobid-EAoyvX9td4pzpSvf__PLUS__uAgZw==&source=srp\n",
      "    Posted 6 days ago\n",
      "    \n",
      "\n",
      "    Company Name: JobsLo Consultants\n",
      "    Skills Required: ['python', 'linux', 'windows', 'sql']\n",
      "    Job Description:  1Job Type- Full Tim.\n",
      "    Link: https://www.timesjobs.com/job-detail/python-developer-jobslo-consultants-indore-2-to-3-yrs-jobid-XP1detWpoa5zpSvf__PLUS__uAgZw==&source=srp\n",
      "    Posted 6 days ago\n",
      "    \n",
      "\n",
      "    Company Name: Route Mobile Limited\n",
      "    Skills Required: ['python', 'django', 'postgresql', 'mysql', 'docker']\n",
      "    Job Description:  Good Experience and knowledge in PythonGood Experience in Flask / Django  ( experi.\n",
      "    Link: https://www.timesjobs.com/job-detail/python-developer-route-mobile-limited-mumbai-2-to-5-yrs-jobid-XL4SDyvBwXJzpSvf__PLUS__uAgZw==&source=srp\n",
      "    Posted 1 day ago\n",
      "    \n",
      "\n",
      "    Company Name: hk infosoft\n",
      "    Skills Required: ['python', 'django', '', 'framework']\n",
      "    Job Description: Expert in Python ,  framework such as Django ,  Flask ,  etc.Understanding of the threading limitations of Python  &  multi-process architecture.Event-driven programming in Py.\n",
      "    Link: https://www.timesjobs.com/job-detail/python-developer-hk-infosoft-ahmedabad-2-to-3-yrs-jobid-qPkmbRWxs5dzpSvf__PLUS__uAgZw==&source=srp\n",
      "    Posted few days ago\n",
      "    \n",
      "\n",
      "    Company Name: TandA HR Solutions\n",
      "    Skills Required: ['python', 'git', 'django']\n",
      "    Job Description:  Good to have working knowledge on unit testing of the Code and write Test Cases. Excellent to Have an account on GIT Hub Should have done projects on Python ,.\n",
      "    Link: https://www.timesjobs.com/job-detail/python-developers-tanda-hr-solutions-chandigarh-2-to-5-yrs-jobid-OtVSvO0kmYNzpSvf__PLUS__uAgZw==&source=srp\n",
      "    Posted few days ago\n",
      "    \n",
      "\n",
      "    Company Name: TandA HR Solutions\n",
      "    Skills Required: ['python', 'git', 'django']\n",
      "    Job Description: Opening for Python Developer profile in a MNC Company for Chandigarh Location.designation- Python DeveloperLocation  ChandigarhExperience  5-8 yearsSalary  10-15 LPAQualificat.\n",
      "    Link: https://www.timesjobs.com/job-detail/python-developer-tanda-hr-solutions-chandigarh-5-to-8-yrs-jobid-id252yPhiLZzpSvf__PLUS__uAgZw==&source=srp\n",
      "    Posted few days ago\n",
      "    \n",
      "\n",
      "    Company Name: APPLYCUP HIRING SOLUTIONS LLP\n",
      "    Skills Required: ['python', 'django', 'html5', 'javascript']\n",
      "    Job Description: Expert in Python ,  w.\n",
      "    Link: https://www.timesjobs.com/job-detail/python-developer-applycup-hiring-solutions-llp-gurgaon-delhi-delhi-ncr-2-to-15-yrs-jobid-FHYQtX1BOyxzpSvf__PLUS__uAgZw==&source=srp\n",
      "    Posted 2 days ago\n",
      "    \n",
      "\n",
      "    Company Name: Global Talent pool     (More Jobs)\n",
      "    Skills Required: ['Python', 'Django', 'Javascript']\n",
      "    Job Description: Hands on experience with Python ,  Django framework.Hands on experience with front-end technologies ,  such as JavaScript ,  Angular ,  HTML5 ,  and CSS3 ( massive plus ) Hand.\n",
      "    Link: https://www.timesjobs.com/job-detail/python-developer-product-base-company-bengaluru-bangalore-1-to-4-yrs-jobid-pe0YfOcluIhzpSvf__PLUS__uAgZw==&source=srp\n",
      "    Posted few days ago\n",
      "    \n",
      "\n",
      "    Company Name: Perfios Software Solutions Pvt. Ltd.\n",
      "    Skills Required: ['python', 'java', 'scala']\n",
      "    Job Description: Were looking for experienced developers who are interested in solving complex problems using Python ,  and the JVM. We like people who are willing to work across the technolog.\n",
      "    Link: https://www.timesjobs.com/job-detail/python-developer-perfios-software-solutions-pvt-ltd-bengaluru-bangalore-5-to-8-yrs-jobid-vxzXapFfNqVzpSvf__PLUS__uAgZw==&source=srp\n",
      "    Posted few days ago\n",
      "    \n",
      "\n",
      "    Company Name: zenga tv\n",
      "    Skills Required: ['python', 'django', 'html5', 'javascript']\n",
      "    Job Description: Translate application storyboards and use cases into functional applicationsDesign ,  bu.\n",
      "    Link: https://www.timesjobs.com/job-detail/python-developer-zenga-tv-gurgaon-2-to-5-yrs-jobid-__PLUS__GAu6f5FqwdzpSvf__PLUS__uAgZw==&source=srp\n",
      "    Posted 3 days ago\n",
      "    \n",
      "\n",
      "    Company Name: route mobile ltd.\n",
      "    Skills Required: ['python', 'django', 'postgresql', 'mysql', 'docker']\n",
      "    Job Description:  Good Experience and knowledge in PythonGood Experience in Flask / Django  ( experience with developing Res.\n",
      "    Link: https://www.timesjobs.com/job-detail/python-developer-route-mobile-ltd-mumbai-2-to-5-yrs-jobid-XFHFhhFrnxNzpSvf__PLUS__uAgZw==&source=srp\n",
      "    Posted 4 days ago\n",
      "    \n",
      "\n",
      "    Company Name: TEAMPLUS STAFFING SOLUTION PVT. LTD.\n",
      "    Skills Required: ['Python 2', 'knowledge of JIRA', 'Terraform']\n",
      "    Job Description:  Its a contract to hire role for 6 months ,  We need a core python developer ( No frameworks )  who hasexposure to Pytest ,  Jenkins and Ansible. it would be 70 PERCENT .\n",
      "    Link: https://www.timesjobs.com/job-detail/python-devops-teamplus-staffing-solution-pvt-ltd-pune-0-to-3-yrs-jobid-rCX83h0ULeBzpSvf__PLUS__uAgZw==&source=srp\n",
      "    Posted 6 days ago\n",
      "    \n"
     ]
    }
   ],
   "source": [
    "for j in jobs:\n",
    "    post = remove_rn(j.find('span' , class_=\"sim-posted\").text)\n",
    "    if(check_dated(post) is False):\n",
    "        continue\n",
    "    name = remove_rn(j.find('h3', class_ =\"joblist-comp-name\").text)\n",
    "    temp = j.find_all('li')\n",
    "    desc = remove_rn(temp[-2].text).split(':')[-1]\n",
    "    skills = remove_rn(temp[-1].text).split(':')[-1].split(',')\n",
    "    link = j.find('h2').a[\"href\"]\n",
    "    print(f'''\n",
    "    Company Name: {name}\n",
    "    Skills Required: {remove_rn_lst(skills)}\n",
    "    Job Description: {desc[0:len(desc)-len(\"... More Details\")]}.\n",
    "    Link: {link}\n",
    "    {post}\n",
    "    ''')\n",
    "    "
   ]
  },
  {
   "cell_type": "code",
   "execution_count": null,
   "metadata": {},
   "outputs": [],
   "source": []
  },
  {
   "cell_type": "code",
   "execution_count": null,
   "metadata": {},
   "outputs": [],
   "source": []
  }
 ],
 "metadata": {
  "interpreter": {
   "hash": "2477ad58ea0fabfad8a9abd93eeb78f42da272d8f9bd878188fd1171b935f0f3"
  },
  "kernelspec": {
   "display_name": "Python 3.7.8 64-bit",
   "language": "python",
   "name": "python3"
  },
  "language_info": {
   "codemirror_mode": {
    "name": "ipython",
    "version": 3
   },
   "file_extension": ".py",
   "mimetype": "text/x-python",
   "name": "python",
   "nbconvert_exporter": "python",
   "pygments_lexer": "ipython3",
   "version": "3.7.8"
  },
  "orig_nbformat": 4
 },
 "nbformat": 4,
 "nbformat_minor": 2
}
