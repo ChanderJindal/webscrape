{
 "cells": [
  {
   "cell_type": "code",
   "execution_count": null,
   "metadata": {},
   "outputs": [],
   "source": [
    "import requests"
   ]
  },
  {
   "cell_type": "markdown",
   "metadata": {},
   "source": [
    "Mangadex: https://mangadex.org/chapter/96d3f09a-720a-4f39-95df-7448d05e5fbf/1\n",
    "Imgur: https://imgur.com/gallery/RLPSQYg\n",
    "Cubari: https://cubari.moe/read/imgur/RLPSQYg/1/1/"
   ]
  },
  {
   "cell_type": "markdown",
   "metadata": {},
   "source": [
    "Okay, I have checked quite a few sites here, \n",
    "PS:- I am focusing on Mangadex, but it's still in \"early access\""
   ]
  },
  {
   "cell_type": "code",
   "execution_count": null,
   "metadata": {},
   "outputs": [],
   "source": [
    "MangaDex_Link = \"https://mangadex.org/title/7f30dfc3-0b80-4dcc-a3b9-0cd746fac005/detective-conan\""
   ]
  },
  {
   "cell_type": "code",
   "execution_count": null,
   "metadata": {},
   "outputs": [],
   "source": [
    "Site_Status = requests.get(MangaDex_Link)\n",
    "Site_Status"
   ]
  },
  {
   "cell_type": "code",
   "execution_count": null,
   "metadata": {},
   "outputs": [],
   "source": [
    "print(Site_Status,type(Site_Status))"
   ]
  },
  {
   "cell_type": "code",
   "execution_count": null,
   "metadata": {},
   "outputs": [],
   "source": [
    "if str(Site_Status) != \"<Response [200]>\":\n",
    "    print(\"There is an Issue here!\")"
   ]
  },
  {
   "cell_type": "code",
   "execution_count": null,
   "metadata": {},
   "outputs": [],
   "source": [
    "Site_Html = Site_Status.text\n",
    "Site_Html"
   ]
  },
  {
   "cell_type": "code",
   "execution_count": null,
   "metadata": {},
   "outputs": [],
   "source": [
    "from bs4 import BeautifulSoup"
   ]
  },
  {
   "cell_type": "code",
   "execution_count": null,
   "metadata": {},
   "outputs": [],
   "source": [
    "soup = BeautifulSoup(Site_Html,features=\"lxml\")\n",
    "soup"
   ]
  },
  {
   "cell_type": "markdown",
   "metadata": {},
   "source": [
    "<div data-v-244ba86c=\"\" data-v-07a95bee=\"\" class=\"bg-accent rounded-sm\"><div data-v-244ba86c=\"\" class=\"flex text-xs px-2 py-1 cursor-pointer\"><!----> <span data-v-244ba86c=\"\" class=\"font-bold\">Chapter 1086</span> <!----> <div data-v-244ba86c=\"\" class=\"flex-grow\"></div> <div data-v-244ba86c=\"\" class=\"\n",
    "        flex\n",
    "        items-center\n",
    "        bg-white\n",
    "        dark:bg-accent-lighten\n",
    "        rounded\n",
    "        px-0.5\n",
    "        ml-0.5\n",
    "        transition transition-opacity\n",
    "       opacity-0\"><img data-v-244ba86c=\"\" title=\"English\" src=\"/flags/gb.svg\" alt=\"English flag icon\" width=\"24\" height=\"24\" class=\"inline-block !h-4 rounded\"> <span data-v-244ba86c=\"\" class=\"ml-1 text-[0.625rem] font-bold\">1</span></div><div data-v-244ba86c=\"\" class=\"\n",
    "        flex\n",
    "        items-center\n",
    "        bg-white\n",
    "        dark:bg-accent-lighten\n",
    "        rounded\n",
    "        px-0.5\n",
    "        ml-0.5\n",
    "        transition transition-opacity\n",
    "       opacity-0\"><img data-v-244ba86c=\"\" title=\"Indonesian\" src=\"/flags/id.svg\" alt=\"Indonesian flag icon\" width=\"24\" height=\"24\" class=\"inline-block !h-4 rounded\"> <span data-v-244ba86c=\"\" class=\"ml-1 text-[0.625rem] font-bold\">1</span></div><div data-v-244ba86c=\"\" class=\"\n",
    "        flex\n",
    "        items-center\n",
    "        bg-white\n",
    "        dark:bg-accent-lighten\n",
    "        rounded\n",
    "        px-0.5\n",
    "        ml-0.5\n",
    "        transition transition-opacity\n",
    "       opacity-0\"><img data-v-244ba86c=\"\" title=\"Italian\" src=\"/flags/it.svg\" alt=\"Italian flag icon\" width=\"24\" height=\"24\" class=\"inline-block !h-4 rounded\"> <span data-v-244ba86c=\"\" class=\"ml-1 text-[0.625rem] font-bold\">1</span></div> <svg data-v-20f285ec=\"\" data-v-244ba86c=\"\" xmlns=\"http://www.w3.org/2000/svg\" width=\"24\" height=\"24\" viewBox=\"0 0 24 24\" fill=\"none\" stroke=\"currentColor\" stroke-width=\"2\" stroke-linecap=\"round\" stroke-linejoin=\"round\" class=\"ml-2 feather feather-chevron-down small text-icon-black dark:text-icon-white text-false icon\" style=\"transition: transform 150ms ease-in-out 0s;\"><path data-v-20f285ec=\"\" d=\"m6 9 6 6 6-6\"></path></svg></div> <div data-v-244ba86c=\"\" data-v-4d6db498=\"\"><div data-v-4d6e10b4=\"\" data-v-244ba86c=\"\" class=\"flex chapter\"><div data-v-4d6e10b4=\"\" class=\"pl-3.5 py-0.5 flex\"><div data-v-4d6e10b4=\"\" class=\"w-0.5 h-3 bg-icon-black rounded-t-[0.0625rem]\" style=\"transform: translateZ(0px); opacity: 1;\"></div> <div data-v-4d6e10b4=\"\" class=\"mt-3 -ml-0.5 w-0.5 bg-icon-black rounded-b-[0.0625rem]\" style=\"transform: translateZ(0px); height: calc(100% - 0.75rem); opacity: 1;\"></div> <div data-v-4d6e10b4=\"\" class=\"w-2.5 h-0.5 mt-2.5 bg-icon-black rounded-r-[0.0625rem]\" style=\"transform: translateZ(0px); opacity: 1;\"></div></div> <div data-v-4d6e10b4=\"\" class=\"grid gap-2 px-2 py-1 text-xs chapter-grid flex-grow\"><div data-v-4d6e10b4=\"\" class=\"flex space-x-2 items-center\" style=\"grid-area: title / title / title / title;\"><!----> <img data-v-4d6e10b4=\"\" title=\"English\" src=\"/flags/gb.svg\" alt=\"English flag icon\" width=\"16\" height=\"16\" class=\"inline-block !h-4 rounded flex-shrink-0\"> <a data-v-3046b42c=\"\" data-v-4d6e10b4=\"\" href=\"/chapter/661a551a-a427-4f7c-9dbe-14daa1c178ee\" class=\"font-bold truncate\"><!---->\n",
    "        The Recollection of 18\n",
    "      </a> <!----> <!----></div> <div data-v-4d6e10b4=\"\" class=\"flex justify-between md:grid md:grid-cols-3\" style=\"grid-area: upload-info / upload-info / upload-info / upload-info;\"><div data-v-2a199338=\"\" data-v-4d6e10b4=\"\" class=\"flex items-center space-x-1 flex space-x-2 items-center md:col-span-2\"><svg data-v-20f285ec=\"\" data-v-2a199338=\"\" width=\"24\" height=\"24\" viewBox=\"0 0 24 24\" fill=\"none\" xmlns=\"http://www.w3.org/2000/svg\" class=\"rounded small text-icon-black dark:text-icon-white text-false icon\"><path data-v-20f285ec=\"\" d=\"M17 21v-2a4 4 0 0 0-4-4H5a4 4 0 0 0-4 4v2M9 11a4 4 0 1 0 0-8 4 4 0 0 0 0 8ZM23 21v-2a4 4 0 0 0-3-3.87M16 3.13a4 4 0 0 1 0 7.75\" stroke=\"currentColor\" stroke-width=\"2\" stroke-linecap=\"round\" stroke-linejoin=\"round\"></path></svg> <a data-v-2a199338=\"\" href=\"/group/884c50ec-b024-4b00-8ee0-d1fd5da76b4b/3odaf\" class=\"group-tag line-clamp-1 -my-1\" title=\"3odaf\">\n",
    "      3odaf\n",
    "    </a> <!----></div> <a data-v-081c8c1e=\"\" data-v-4d6e10b4=\"\" href=\"/user/50a60d3b-8571-4bbe-835c-c978fece50a7/merlot-1412\" class=\"user-tag flex space-x-2 items-center md:justify-start\"><svg data-v-20f285ec=\"\" data-v-081c8c1e=\"\" width=\"24\" height=\"24\" viewBox=\"0 0 24 24\" fill=\"none\" xmlns=\"http://www.w3.org/2000/svg\" class=\"small text-icon-black dark:text-icon-white text-false icon\"><path data-v-20f285ec=\"\" d=\"M20 21v-2a4 4 0 0 0-4-4H8a4 4 0 0 0-4 4v2M12 11a4 4 0 1 0 0-8 4 4 0 0 0 0 8Z\" stroke=\"currentColor\" stroke-width=\"2\" stroke-linecap=\"round\" stroke-linejoin=\"round\"></path></svg> <div data-v-081c8c1e=\"\" title=\"Merlot_1412\" class=\"line-clamp-1 break-all\" style=\"color: rgb(52, 152, 219);\">\n",
    "    Merlot_1412\n",
    "  </div></a></div> <div data-v-4d6e10b4=\"\" class=\"flex items-center flex items-center justify-end\" style=\"grid-area: stats / stats / stats / stats;\"><svg data-v-20f285ec=\"\" data-v-4d6e10b4=\"\" xmlns=\"http://www.w3.org/2000/svg\" width=\"24\" height=\"24\" viewBox=\"0 0 24 24\" fill=\"none\" stroke=\"currentColor\" stroke-width=\"2\" stroke-linecap=\"round\" stroke-linejoin=\"round\" class=\"mr-1 feather feather-clock small text-icon-black dark:text-icon-white text-false icon\"><circle data-v-20f285ec=\"\" cx=\"12\" cy=\"12\" r=\"10\"></circle><path data-v-20f285ec=\"\" d=\"M12 6v6l4 2\"></path></svg> <time data-v-4d6e10b4=\"\" datetime=\"2022-01-24T20:42:24+00:00\" title=\"25/1/2022, 2:12:24 am\" class=\"whitespace-nowrap\">8 days ago</time></div></div></div><div data-v-4d6e10b4=\"\" data-v-244ba86c=\"\" class=\"flex chapter\"><div data-v-4d6e10b4=\"\" class=\"pl-3.5 py-0.5 flex\"><div data-v-4d6e10b4=\"\" class=\"w-0.5 h-3 bg-icon-black rounded-t-[0.0625rem]\" style=\"transform: translateZ(0px); opacity: 1;\"></div> <div data-v-4d6e10b4=\"\" class=\"mt-3 -ml-0.5 w-0.5 bg-icon-black rounded-b-[0.0625rem]\" style=\"transform: translateZ(0px); height: calc(100% - 0.75rem); opacity: 1;\"></div> <div data-v-4d6e10b4=\"\" class=\"w-2.5 h-0.5 mt-2.5 bg-icon-black rounded-r-[0.0625rem]\" style=\"transform: translateZ(0px); opacity: 1;\"></div></div> <div data-v-4d6e10b4=\"\" class=\"grid gap-2 px-2 py-1 text-xs chapter-grid flex-grow\"><div data-v-4d6e10b4=\"\" class=\"flex space-x-2 items-center\" style=\"grid-area: title / title / title / title;\"><!----> <img data-v-4d6e10b4=\"\" title=\"Indonesian\" src=\"/flags/id.svg\" alt=\"Indonesian flag icon\" width=\"16\" height=\"16\" class=\"inline-block !h-4 rounded flex-shrink-0\"> <a data-v-3046b42c=\"\" data-v-4d6e10b4=\"\" href=\"/chapter/e0116325-6f06-4317-bb16-9dbaf071a6f0\" class=\"font-bold truncate\"><!---->\n",
    "        Kenangan dari 18\n",
    "      </a> <!----> <!----></div> <div data-v-4d6e10b4=\"\" class=\"flex justify-between md:grid md:grid-cols-3\" style=\"grid-area: upload-info / upload-info / upload-info / upload-info;\"><div data-v-2a199338=\"\" data-v-4d6e10b4=\"\" class=\"flex items-center space-x-1 flex space-x-2 items-center md:col-span-2\"><svg data-v-20f285ec=\"\" data-v-2a199338=\"\" width=\"24\" height=\"24\" viewBox=\"0 0 24 24\" fill=\"none\" xmlns=\"http://www.w3.org/2000/svg\" class=\"rounded small text-icon-black dark:text-icon-white text-false icon\"><path data-v-20f285ec=\"\" d=\"M17 21v-2a4 4 0 0 0-4-4H5a4 4 0 0 0-4 4v2M9 11a4 4 0 1 0 0-8 4 4 0 0 0 0 8ZM23 21v-2a4 4 0 0 0-3-3.87M16 3.13a4 4 0 0 1 0 7.75\" stroke=\"currentColor\" stroke-width=\"2\" stroke-linecap=\"round\" stroke-linejoin=\"round\"></path></svg> <a data-v-2a199338=\"\" href=\"/group/d838cc6e-521d-46a6-945f-3d14b8bd7725/seyaseya\" class=\"group-tag line-clamp-1 -my-1\" title=\"seyaseya\">\n",
    "      seyaseya\n",
    "    </a> <!----></div> <a data-v-081c8c1e=\"\" data-v-4d6e10b4=\"\" href=\"/user/2c99a947-2e6d-4535-9d00-b6177afd3e17/seyaseya\" class=\"user-tag flex space-x-2 items-center md:justify-start\"><svg data-v-20f285ec=\"\" data-v-081c8c1e=\"\" width=\"24\" height=\"24\" viewBox=\"0 0 24 24\" fill=\"none\" xmlns=\"http://www.w3.org/2000/svg\" class=\"small text-icon-black dark:text-icon-white text-false icon\"><path data-v-20f285ec=\"\" d=\"M20 21v-2a4 4 0 0 0-4-4H8a4 4 0 0 0-4 4v2M12 11a4 4 0 1 0 0-8 4 4 0 0 0 0 8Z\" stroke=\"currentColor\" stroke-width=\"2\" stroke-linecap=\"round\" stroke-linejoin=\"round\"></path></svg> <div data-v-081c8c1e=\"\" title=\"seyaseya\" class=\"line-clamp-1 break-all\">\n",
    "    seyaseya\n",
    "  </div></a></div> <div data-v-4d6e10b4=\"\" class=\"flex items-center flex items-center justify-end\" style=\"grid-area: stats / stats / stats / stats;\"><svg data-v-20f285ec=\"\" data-v-4d6e10b4=\"\" xmlns=\"http://www.w3.org/2000/svg\" width=\"24\" height=\"24\" viewBox=\"0 0 24 24\" fill=\"none\" stroke=\"currentColor\" stroke-width=\"2\" stroke-linecap=\"round\" stroke-linejoin=\"round\" class=\"mr-1 feather feather-clock small text-icon-black dark:text-icon-white text-false icon\"><circle data-v-20f285ec=\"\" cx=\"12\" cy=\"12\" r=\"10\"></circle><path data-v-20f285ec=\"\" d=\"M12 6v6l4 2\"></path></svg> <time data-v-4d6e10b4=\"\" datetime=\"2022-01-27T06:15:47+00:00\" title=\"27/1/2022, 11:45:47 am\" class=\"whitespace-nowrap\">6 days ago</time></div></div></div><div data-v-4d6e10b4=\"\" data-v-244ba86c=\"\" class=\"flex chapter\"><div data-v-4d6e10b4=\"\" class=\"pl-3.5 py-0.5 flex\"><div data-v-4d6e10b4=\"\" class=\"w-0.5 h-3 bg-icon-black rounded-tr-[0.0625rem] rounded-tl-[0.0625rem] rounded-bl-[0.0625rem]\" style=\"transform: translateZ(0px); opacity: 1;\"></div> <!----> <div data-v-4d6e10b4=\"\" class=\"w-2.5 h-0.5 mt-2.5 bg-icon-black rounded-r-[0.0625rem]\" style=\"transform: translateZ(0px); opacity: 1;\"></div></div> <div data-v-4d6e10b4=\"\" class=\"grid gap-2 px-2 py-1 text-xs chapter-grid flex-grow\"><div data-v-4d6e10b4=\"\" class=\"flex space-x-2 items-center\" style=\"grid-area: title / title / title / title;\"><!----> <img data-v-4d6e10b4=\"\" title=\"Italian\" src=\"/flags/it.svg\" alt=\"Italian flag icon\" width=\"16\" height=\"16\" class=\"inline-block !h-4 rounded flex-shrink-0\"> <a data-v-3046b42c=\"\" data-v-4d6e10b4=\"\" href=\"/chapter/e5b7712f-d4a0-4e93-937d-321264a5056e\" class=\"font-bold truncate\"><!---->\n",
    "        I ricordi della numero diciotto\n",
    "      </a> <!----> <!----></div> <div data-v-4d6e10b4=\"\" class=\"flex justify-between md:grid md:grid-cols-3\" style=\"grid-area: upload-info / upload-info / upload-info / upload-info;\"><div data-v-2a199338=\"\" data-v-4d6e10b4=\"\" class=\"flex items-center space-x-1 flex space-x-2 items-center md:col-span-2\"><svg data-v-20f285ec=\"\" data-v-2a199338=\"\" width=\"24\" height=\"24\" viewBox=\"0 0 24 24\" fill=\"none\" xmlns=\"http://www.w3.org/2000/svg\" class=\"rounded small text-icon-black dark:text-icon-white text-false icon\"><path data-v-20f285ec=\"\" d=\"M17 21v-2a4 4 0 0 0-4-4H5a4 4 0 0 0-4 4v2M9 11a4 4 0 1 0 0-8 4 4 0 0 0 0 8ZM23 21v-2a4 4 0 0 0-3-3.87M16 3.13a4 4 0 0 1 0 7.75\" stroke=\"currentColor\" stroke-width=\"2\" stroke-linecap=\"round\" stroke-linejoin=\"round\"></path></svg> <a data-v-2a199338=\"\" href=\"/group/b1920288-2a69-4303-908c-23eda938959a/detective-conan-family-subs\" class=\"group-tag line-clamp-1 -my-1\" title=\"Detective Conan Family Subs\">\n",
    "      Detective Conan Family Subs\n",
    "    </a> <!----></div> <a data-v-081c8c1e=\"\" data-v-4d6e10b4=\"\" href=\"/user/86c58b0d-bc43-4448-85ff-06f20b810734/holmeschan\" class=\"user-tag flex space-x-2 items-center md:justify-start\"><svg data-v-20f285ec=\"\" data-v-081c8c1e=\"\" width=\"24\" height=\"24\" viewBox=\"0 0 24 24\" fill=\"none\" xmlns=\"http://www.w3.org/2000/svg\" class=\"small text-icon-black dark:text-icon-white text-false icon\"><path data-v-20f285ec=\"\" d=\"M20 21v-2a4 4 0 0 0-4-4H8a4 4 0 0 0-4 4v2M12 11a4 4 0 1 0 0-8 4 4 0 0 0 0 8Z\" stroke=\"currentColor\" stroke-width=\"2\" stroke-linecap=\"round\" stroke-linejoin=\"round\"></path></svg> <div data-v-081c8c1e=\"\" title=\"HolmesChan\" class=\"line-clamp-1 break-all\" style=\"color: rgb(52, 152, 219);\">\n",
    "    HolmesChan\n",
    "  </div></a></div> <div data-v-4d6e10b4=\"\" class=\"flex items-center flex items-center justify-end\" style=\"grid-area: stats / stats / stats / stats;\"><svg data-v-20f285ec=\"\" data-v-4d6e10b4=\"\" xmlns=\"http://www.w3.org/2000/svg\" width=\"24\" height=\"24\" viewBox=\"0 0 24 24\" fill=\"none\" stroke=\"currentColor\" stroke-width=\"2\" stroke-linecap=\"round\" stroke-linejoin=\"round\" class=\"mr-1 feather feather-clock small text-icon-black dark:text-icon-white text-false icon\"><circle data-v-20f285ec=\"\" cx=\"12\" cy=\"12\" r=\"10\"></circle><path data-v-20f285ec=\"\" d=\"M12 6v6l4 2\"></path></svg> <time data-v-4d6e10b4=\"\" datetime=\"2022-01-27T15:58:00+00:00\" title=\"27/1/2022, 9:28:00 pm\" class=\"whitespace-nowrap\">5 days ago</time></div></div></div></div></div>\n",
    "  "
   ]
  },
  {
   "cell_type": "markdown",
   "metadata": {},
   "source": [
    "This is the Card I will get info from "
   ]
  },
  {
   "cell_type": "markdown",
   "metadata": {},
   "source": [
    "<div data-v-244ba86c=\"\" data-v-07a95bee=\"\" class=\"bg-accent rounded-sm\">\n",
    "<div data-v-244ba86c=\"\" class=\"flex text-xs px-2 py-1 cursor-pointer\">"
   ]
  },
  {
   "cell_type": "markdown",
   "metadata": {},
   "source": [
    "^ this one is not empty, it contains the div tag on top"
   ]
  },
  {
   "cell_type": "code",
   "execution_count": null,
   "metadata": {},
   "outputs": [],
   "source": [
    "card = soup.find_all('div',class_=\"rounded flex flex-col gap-2\")\n",
    "#Not sure if i should all this ->  data-v-244ba86c=\"\" data-v-07a95bee=\"\" \n",
    "#<div data-v-07a95bee=\"\" class=\"rounded flex flex-col gap-2\" data-v-4d6db498=\"\">\n",
    "card"
   ]
  },
  {
   "cell_type": "markdown",
   "metadata": {},
   "source": [
    "Not Working here"
   ]
  }
 ],
 "metadata": {
  "interpreter": {
   "hash": "2477ad58ea0fabfad8a9abd93eeb78f42da272d8f9bd878188fd1171b935f0f3"
  },
  "kernelspec": {
   "display_name": "Python 3.7.8 64-bit",
   "language": "python",
   "name": "python3"
  },
  "language_info": {
   "codemirror_mode": {
    "name": "ipython",
    "version": 3
   },
   "file_extension": ".py",
   "mimetype": "text/x-python",
   "name": "python",
   "nbconvert_exporter": "python",
   "pygments_lexer": "ipython3",
   "version": "3.7.8"
  },
  "orig_nbformat": 4
 },
 "nbformat": 4,
 "nbformat_minor": 2
}
