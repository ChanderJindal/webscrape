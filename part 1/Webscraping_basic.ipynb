{
 "cells": [
  {
   "cell_type": "code",
   "execution_count": 39,
   "metadata": {},
   "outputs": [],
   "source": [
    "from bs4 import BeautifulSoup\n",
    "#BeautifulSoup to access the file"
   ]
  },
  {
   "cell_type": "code",
   "execution_count": 40,
   "metadata": {},
   "outputs": [
    {
     "name": "stdout",
     "output_type": "stream",
     "text": [
      " <!doctype html>\n",
      " <html lang=\"en\">\n",
      "    <head>\n",
      "       <meta charset=\"utf-8\">\n",
      "       <meta name=\"viewport\" content=\"width=device-width, initial-scale=1, shrink-to-fit=no\">\n",
      "       <link rel=\"stylesheet\" href=\"https://stackpath.bootstrapcdn.com/bootstrap/4.5.2/css/bootstrap.min.css\" integrity=\"sha384-JcKb8q3iqJ61gNV9KGb8thSsNjpSL0n8PARn9HuZOnIxN0hoP+VmmDGMN5t9UJ0Z\" crossorigin=\"anonymous\">\n",
      "       <title>My Courses</title>\n",
      "    </head>\n",
      "    <body>\n",
      "       <h1>Hello, Start Learning!</h1>\n",
      "       <div class=\"card\" id=\"card-python-for-beginners\">\n",
      "          <div class=\"card-header\">\n",
      "             Python\n",
      "          </div>\n",
      "          <div class=\"card-body\">\n",
      "             <h5 class=\"card-title\">Python for beginners</h5>\n",
      "             <p class=\"card-text\">If you are new to Python, this is the course that you should buy!</p>\n",
      "             <a href=\"#\" class=\"btn btn-primary\">Start for 20$</a>\n",
      "          </div>\n",
      "       </div>\n",
      "       <div class=\"card\" id=\"card-python-web-development\">\n",
      "          <div class=\"card-header\">\n",
      "             Python\n",
      "          </div>\n",
      "          <div class=\"card-body\">\n",
      "             <h5 class=\"card-title\">Python Web Development</h5>\n",
      "             <p class=\"card-text\">If you feel enough confident with python, you are ready to learn how to create your own website!</p>\n",
      "             <a href=\"#\" class=\"btn btn-primary\">Start for 50$</a>\n",
      "          </div>\n",
      "       </div>\n",
      "       <div class=\"card\" id=\"card-python-machine-learning\">\n",
      "          <div class=\"card-header\">\n",
      "             Python\n",
      "          </div>\n",
      "          <div class=\"card-body\">\n",
      "             <h5 class=\"card-title\">Python Machine Learning</h5>\n",
      "             <p class=\"card-text\">Become a Python Machine Learning master!</p>\n",
      "             <a href=\"#\" class=\"btn btn-primary\">Start for 100$</a>\n",
      "          </div>\n",
      "       </div>\n",
      "    </body>\n",
      " </html>\n"
     ]
    }
   ],
   "source": [
    "\n",
    "#opening the html doc. to read only\n",
    "with open('home.html','r') as Home_html:\n",
    "    Lines = Home_html.read()\n",
    "    print(Lines)\n",
    "    # all the content"
   ]
  },
  {
   "cell_type": "code",
   "execution_count": 41,
   "metadata": {},
   "outputs": [],
   "source": [
    "import pprint"
   ]
  },
  {
   "cell_type": "code",
   "execution_count": 42,
   "metadata": {},
   "outputs": [
    {
     "name": "stdout",
     "output_type": "stream",
     "text": [
      "(' <!doctype html>\\n'\n",
      " ' <html lang=\"en\">\\n'\n",
      " '    <head>\\n'\n",
      " '       <meta charset=\"utf-8\">\\n'\n",
      " '       <meta name=\"viewport\" content=\"width=device-width, initial-scale=1, '\n",
      " 'shrink-to-fit=no\">\\n'\n",
      " '       <link rel=\"stylesheet\" '\n",
      " 'href=\"https://stackpath.bootstrapcdn.com/bootstrap/4.5.2/css/bootstrap.min.css\" '\n",
      " 'integrity=\"sha384-JcKb8q3iqJ61gNV9KGb8thSsNjpSL0n8PARn9HuZOnIxN0hoP+VmmDGMN5t9UJ0Z\" '\n",
      " 'crossorigin=\"anonymous\">\\n'\n",
      " '       <title>My Courses</title>\\n'\n",
      " '    </head>\\n'\n",
      " '    <body>\\n'\n",
      " '       <h1>Hello, Start Learning!</h1>\\n'\n",
      " '       <div class=\"card\" id=\"card-python-for-beginners\">\\n'\n",
      " '          <div class=\"card-header\">\\n'\n",
      " '             Python\\n'\n",
      " '          </div>\\n'\n",
      " '          <div class=\"card-body\">\\n'\n",
      " '             <h5 class=\"card-title\">Python for beginners</h5>\\n'\n",
      " '             <p class=\"card-text\">If you are new to Python, this is the '\n",
      " 'course that you should buy!</p>\\n'\n",
      " '             <a href=\"#\" class=\"btn btn-primary\">Start for 20$</a>\\n'\n",
      " '          </div>\\n'\n",
      " '       </div>\\n'\n",
      " '       <div class=\"card\" id=\"card-python-web-development\">\\n'\n",
      " '          <div class=\"card-header\">\\n'\n",
      " '             Python\\n'\n",
      " '          </div>\\n'\n",
      " '          <div class=\"card-body\">\\n'\n",
      " '             <h5 class=\"card-title\">Python Web Development</h5>\\n'\n",
      " '             <p class=\"card-text\">If you feel enough confident with python, '\n",
      " 'you are ready to learn how to create your own website!</p>\\n'\n",
      " '             <a href=\"#\" class=\"btn btn-primary\">Start for 50$</a>\\n'\n",
      " '          </div>\\n'\n",
      " '       </div>\\n'\n",
      " '       <div class=\"card\" id=\"card-python-machine-learning\">\\n'\n",
      " '          <div class=\"card-header\">\\n'\n",
      " '             Python\\n'\n",
      " '          </div>\\n'\n",
      " '          <div class=\"card-body\">\\n'\n",
      " '             <h5 class=\"card-title\">Python Machine Learning</h5>\\n'\n",
      " '             <p class=\"card-text\">Become a Python Machine Learning '\n",
      " 'master!</p>\\n'\n",
      " '             <a href=\"#\" class=\"btn btn-primary\">Start for 100$</a>\\n'\n",
      " '          </div>\\n'\n",
      " '       </div>\\n'\n",
      " '    </body>\\n'\n",
      " ' </html>')\n"
     ]
    }
   ],
   "source": [
    "pprint.pprint(Lines)"
   ]
  },
  {
   "cell_type": "code",
   "execution_count": 43,
   "metadata": {},
   "outputs": [
    {
     "data": {
      "text/plain": [
       "<!DOCTYPE html>\n",
       "<html lang=\"en\">\n",
       "<head>\n",
       "<meta charset=\"utf-8\"/>\n",
       "<meta content=\"width=device-width, initial-scale=1, shrink-to-fit=no\" name=\"viewport\"/>\n",
       "<link crossorigin=\"anonymous\" href=\"https://stackpath.bootstrapcdn.com/bootstrap/4.5.2/css/bootstrap.min.css\" integrity=\"sha384-JcKb8q3iqJ61gNV9KGb8thSsNjpSL0n8PARn9HuZOnIxN0hoP+VmmDGMN5t9UJ0Z\" rel=\"stylesheet\"/>\n",
       "<title>My Courses</title>\n",
       "</head>\n",
       "<body>\n",
       "<h1>Hello, Start Learning!</h1>\n",
       "<div class=\"card\" id=\"card-python-for-beginners\">\n",
       "<div class=\"card-header\">\n",
       "             Python\n",
       "          </div>\n",
       "<div class=\"card-body\">\n",
       "<h5 class=\"card-title\">Python for beginners</h5>\n",
       "<p class=\"card-text\">If you are new to Python, this is the course that you should buy!</p>\n",
       "<a class=\"btn btn-primary\" href=\"#\">Start for 20$</a>\n",
       "</div>\n",
       "</div>\n",
       "<div class=\"card\" id=\"card-python-web-development\">\n",
       "<div class=\"card-header\">\n",
       "             Python\n",
       "          </div>\n",
       "<div class=\"card-body\">\n",
       "<h5 class=\"card-title\">Python Web Development</h5>\n",
       "<p class=\"card-text\">If you feel enough confident with python, you are ready to learn how to create your own website!</p>\n",
       "<a class=\"btn btn-primary\" href=\"#\">Start for 50$</a>\n",
       "</div>\n",
       "</div>\n",
       "<div class=\"card\" id=\"card-python-machine-learning\">\n",
       "<div class=\"card-header\">\n",
       "             Python\n",
       "          </div>\n",
       "<div class=\"card-body\">\n",
       "<h5 class=\"card-title\">Python Machine Learning</h5>\n",
       "<p class=\"card-text\">Become a Python Machine Learning master!</p>\n",
       "<a class=\"btn btn-primary\" href=\"#\">Start for 100$</a>\n",
       "</div>\n",
       "</div>\n",
       "</body>\n",
       "</html>"
      ]
     },
     "execution_count": 43,
     "metadata": {},
     "output_type": "execute_result"
    }
   ],
   "source": [
    "soup = BeautifulSoup(Lines,'lxml')\n",
    "soup"
   ]
  },
  {
   "cell_type": "code",
   "execution_count": 44,
   "metadata": {},
   "outputs": [
    {
     "name": "stdout",
     "output_type": "stream",
     "text": [
      "<bound method Tag.prettify of <!DOCTYPE html>\n",
      "<html lang=\"en\">\n",
      "<head>\n",
      "<meta charset=\"utf-8\"/>\n",
      "<meta content=\"width=device-width, initial-scale=1, shrink-to-fit=no\" name=\"viewport\"/>\n",
      "<link crossorigin=\"anonymous\" href=\"https://stackpath.bootstrapcdn.com/bootstrap/4.5.2/css/bootstrap.min.css\" integrity=\"sha384-JcKb8q3iqJ61gNV9KGb8thSsNjpSL0n8PARn9HuZOnIxN0hoP+VmmDGMN5t9UJ0Z\" rel=\"stylesheet\"/>\n",
      "<title>My Courses</title>\n",
      "</head>\n",
      "<body>\n",
      "<h1>Hello, Start Learning!</h1>\n",
      "<div class=\"card\" id=\"card-python-for-beginners\">\n",
      "<div class=\"card-header\">\n",
      "             Python\n",
      "          </div>\n",
      "<div class=\"card-body\">\n",
      "<h5 class=\"card-title\">Python for beginners</h5>\n",
      "<p class=\"card-text\">If you are new to Python, this is the course that you should buy!</p>\n",
      "<a class=\"btn btn-primary\" href=\"#\">Start for 20$</a>\n",
      "</div>\n",
      "</div>\n",
      "<div class=\"card\" id=\"card-python-web-development\">\n",
      "<div class=\"card-header\">\n",
      "             Python\n",
      "          </div>\n",
      "<div class=\"card-body\">\n",
      "<h5 class=\"card-title\">Python Web Development</h5>\n",
      "<p class=\"card-text\">If you feel enough confident with python, you are ready to learn how to create your own website!</p>\n",
      "<a class=\"btn btn-primary\" href=\"#\">Start for 50$</a>\n",
      "</div>\n",
      "</div>\n",
      "<div class=\"card\" id=\"card-python-machine-learning\">\n",
      "<div class=\"card-header\">\n",
      "             Python\n",
      "          </div>\n",
      "<div class=\"card-body\">\n",
      "<h5 class=\"card-title\">Python Machine Learning</h5>\n",
      "<p class=\"card-text\">Become a Python Machine Learning master!</p>\n",
      "<a class=\"btn btn-primary\" href=\"#\">Start for 100$</a>\n",
      "</div>\n",
      "</div>\n",
      "</body>\n",
      "</html>>\n"
     ]
    }
   ],
   "source": [
    "print(soup.prettify)"
   ]
  },
  {
   "cell_type": "code",
   "execution_count": 45,
   "metadata": {},
   "outputs": [
    {
     "data": {
      "text/plain": [
       "<meta charset=\"utf-8\"/>"
      ]
     },
     "execution_count": 45,
     "metadata": {},
     "output_type": "execute_result"
    }
   ],
   "source": [
    "tags = soup.find('meta')\n",
    "tags"
   ]
  },
  {
   "cell_type": "code",
   "execution_count": 46,
   "metadata": {},
   "outputs": [
    {
     "data": {
      "text/plain": [
       "[<meta charset=\"utf-8\"/>,\n",
       " <meta content=\"width=device-width, initial-scale=1, shrink-to-fit=no\" name=\"viewport\"/>]"
      ]
     },
     "execution_count": 46,
     "metadata": {},
     "output_type": "execute_result"
    }
   ],
   "source": [
    "tags = soup.findAll('meta')\n",
    "#type(tags)\n",
    "tags"
   ]
  },
  {
   "cell_type": "code",
   "execution_count": 53,
   "metadata": {},
   "outputs": [
    {
     "name": "stdout",
     "output_type": "stream",
     "text": [
      "\n",
      "Hello, Start Learning!\n",
      "\n",
      "\n",
      "             Python\n",
      "          \n",
      "\n",
      "Python for beginners\n",
      "If you are new to Python, this is the course that you should buy!\n",
      "Start for 20$\n",
      "\n",
      "\n",
      "\n",
      "\n",
      "             Python\n",
      "          \n",
      "\n",
      "Python Web Development\n",
      "If you feel enough confident with python, you are ready to learn how to create your own website!\n",
      "Start for 50$\n",
      "\n",
      "\n",
      "\n",
      "\n",
      "             Python\n",
      "          \n",
      "\n",
      "Python Machine Learning\n",
      "Become a Python Machine Learning master!\n",
      "Start for 100$\n",
      "\n",
      "\n",
      "!!!!!!!!!!!!!!!!!!!!!!!!!\n"
     ]
    }
   ],
   "source": [
    "for tag in soup.findAll('body'):\n",
    "    #meta will make a seperate file  \n",
    "    print(tag.text,end=\"!!!!!!!!!!!!!!!!!!!!!!!!!\\n\")"
   ]
  },
  {
   "cell_type": "code",
   "execution_count": 55,
   "metadata": {},
   "outputs": [
    {
     "data": {
      "text/plain": [
       "[<div class=\"card\" id=\"card-python-for-beginners\">\n",
       " <div class=\"card-header\">\n",
       "              Python\n",
       "           </div>\n",
       " <div class=\"card-body\">\n",
       " <h5 class=\"card-title\">Python for beginners</h5>\n",
       " <p class=\"card-text\">If you are new to Python, this is the course that you should buy!</p>\n",
       " <a class=\"btn btn-primary\" href=\"#\">Start for 20$</a>\n",
       " </div>\n",
       " </div>,\n",
       " <div class=\"card-header\">\n",
       "              Python\n",
       "           </div>,\n",
       " <div class=\"card-body\">\n",
       " <h5 class=\"card-title\">Python for beginners</h5>\n",
       " <p class=\"card-text\">If you are new to Python, this is the course that you should buy!</p>\n",
       " <a class=\"btn btn-primary\" href=\"#\">Start for 20$</a>\n",
       " </div>,\n",
       " <div class=\"card\" id=\"card-python-web-development\">\n",
       " <div class=\"card-header\">\n",
       "              Python\n",
       "           </div>\n",
       " <div class=\"card-body\">\n",
       " <h5 class=\"card-title\">Python Web Development</h5>\n",
       " <p class=\"card-text\">If you feel enough confident with python, you are ready to learn how to create your own website!</p>\n",
       " <a class=\"btn btn-primary\" href=\"#\">Start for 50$</a>\n",
       " </div>\n",
       " </div>,\n",
       " <div class=\"card-header\">\n",
       "              Python\n",
       "           </div>,\n",
       " <div class=\"card-body\">\n",
       " <h5 class=\"card-title\">Python Web Development</h5>\n",
       " <p class=\"card-text\">If you feel enough confident with python, you are ready to learn how to create your own website!</p>\n",
       " <a class=\"btn btn-primary\" href=\"#\">Start for 50$</a>\n",
       " </div>,\n",
       " <div class=\"card\" id=\"card-python-machine-learning\">\n",
       " <div class=\"card-header\">\n",
       "              Python\n",
       "           </div>\n",
       " <div class=\"card-body\">\n",
       " <h5 class=\"card-title\">Python Machine Learning</h5>\n",
       " <p class=\"card-text\">Become a Python Machine Learning master!</p>\n",
       " <a class=\"btn btn-primary\" href=\"#\">Start for 100$</a>\n",
       " </div>\n",
       " </div>,\n",
       " <div class=\"card-header\">\n",
       "              Python\n",
       "           </div>,\n",
       " <div class=\"card-body\">\n",
       " <h5 class=\"card-title\">Python Machine Learning</h5>\n",
       " <p class=\"card-text\">Become a Python Machine Learning master!</p>\n",
       " <a class=\"btn btn-primary\" href=\"#\">Start for 100$</a>\n",
       " </div>]"
      ]
     },
     "execution_count": 55,
     "metadata": {},
     "output_type": "execute_result"
    }
   ],
   "source": [
    "course_cards = soup.find_all('div')\n",
    "course_cards\n",
    "#there are a lot of <div> tags,\n",
    "#so we need a filter"
   ]
  },
  {
   "cell_type": "code",
   "execution_count": 56,
   "metadata": {},
   "outputs": [
    {
     "data": {
      "text/plain": [
       "[<div class=\"card\" id=\"card-python-for-beginners\">\n",
       " <div class=\"card-header\">\n",
       "              Python\n",
       "           </div>\n",
       " <div class=\"card-body\">\n",
       " <h5 class=\"card-title\">Python for beginners</h5>\n",
       " <p class=\"card-text\">If you are new to Python, this is the course that you should buy!</p>\n",
       " <a class=\"btn btn-primary\" href=\"#\">Start for 20$</a>\n",
       " </div>\n",
       " </div>,\n",
       " <div class=\"card\" id=\"card-python-web-development\">\n",
       " <div class=\"card-header\">\n",
       "              Python\n",
       "           </div>\n",
       " <div class=\"card-body\">\n",
       " <h5 class=\"card-title\">Python Web Development</h5>\n",
       " <p class=\"card-text\">If you feel enough confident with python, you are ready to learn how to create your own website!</p>\n",
       " <a class=\"btn btn-primary\" href=\"#\">Start for 50$</a>\n",
       " </div>\n",
       " </div>,\n",
       " <div class=\"card\" id=\"card-python-machine-learning\">\n",
       " <div class=\"card-header\">\n",
       "              Python\n",
       "           </div>\n",
       " <div class=\"card-body\">\n",
       " <h5 class=\"card-title\">Python Machine Learning</h5>\n",
       " <p class=\"card-text\">Become a Python Machine Learning master!</p>\n",
       " <a class=\"btn btn-primary\" href=\"#\">Start for 100$</a>\n",
       " </div>\n",
       " </div>]"
      ]
     },
     "execution_count": 56,
     "metadata": {},
     "output_type": "execute_result"
    }
   ],
   "source": [
    "course_cards = soup.find_all('div',class_ = \"card\")\n",
    "course_cards\n",
    "#now we got <div> tags who have a class = \"cards\""
   ]
  },
  {
   "cell_type": "code",
   "execution_count": 61,
   "metadata": {},
   "outputs": [
    {
     "name": "stdout",
     "output_type": "stream",
     "text": [
      "None@@@@@@@@@@@@@@@@@2\n",
      "None@@@@@@@@@@@@@@@@@2\n",
      "None@@@@@@@@@@@@@@@@@2\n"
     ]
    }
   ],
   "source": [
    "for course in course_cards:\n",
    "    print(course.id,end=\"@@@@@@@@@@@@@@@@@2\\n\")\n",
    "    #it got id but can't seem to print it"
   ]
  },
  {
   "cell_type": "code",
   "execution_count": 65,
   "metadata": {},
   "outputs": [
    {
     "name": "stdout",
     "output_type": "stream",
     "text": [
      "<h5 class=\"card-title\">Python for beginners</h5>\n",
      "h5h5h5h5\n",
      "Python for beginners\n",
      "h5h5h5texttext\n",
      "<p class=\"card-text\">If you are new to Python, this is the course that you should buy!</p>\n",
      "ppp\n",
      "If you are new to Python, this is the course that you should buy!\n",
      "ppptexttext\n",
      "<a class=\"btn btn-primary\" href=\"#\">Start for 20$</a>\n",
      "aaa\n",
      "Start for 20$\n",
      "aaatexttext\n",
      "<h5 class=\"card-title\">Python Web Development</h5>\n",
      "h5h5h5h5\n",
      "Python Web Development\n",
      "h5h5h5texttext\n",
      "<p class=\"card-text\">If you feel enough confident with python, you are ready to learn how to create your own website!</p>\n",
      "ppp\n",
      "If you feel enough confident with python, you are ready to learn how to create your own website!\n",
      "ppptexttext\n",
      "<a class=\"btn btn-primary\" href=\"#\">Start for 50$</a>\n",
      "aaa\n",
      "Start for 50$\n",
      "aaatexttext\n",
      "<h5 class=\"card-title\">Python Machine Learning</h5>\n",
      "h5h5h5h5\n",
      "Python Machine Learning\n",
      "h5h5h5texttext\n",
      "<p class=\"card-text\">Become a Python Machine Learning master!</p>\n",
      "ppp\n",
      "Become a Python Machine Learning master!\n",
      "ppptexttext\n",
      "<a class=\"btn btn-primary\" href=\"#\">Start for 100$</a>\n",
      "aaa\n",
      "Start for 100$\n",
      "aaatexttext\n"
     ]
    }
   ],
   "source": [
    "for course in course_cards:\n",
    "    print(course.h5,end=\"\\nh5h5h5h5\\n\")\n",
    "    #Since h5 is a tag in itself i can pick up it's text\n",
    "    print(course.h5.text,end=\"\\nh5h5h5texttext\\n\")\n",
    "    # similary i got p and a tag\n",
    "    #p\n",
    "    print(course.p,end=\"\\nppp\\n\")\n",
    "    print(course.p.text,end=\"\\nppptexttext\\n\")\n",
    "    #a\n",
    "    print(course.a,end=\"\\naaa\\n\")\n",
    "    print(course.a.text,end=\"\\naaatexttext\\n\")\n",
    "    '''\n",
    "    all .text is a string it's like json.dumps()\n",
    "    '''"
   ]
  },
  {
   "cell_type": "markdown",
   "metadata": {},
   "source": [
    "Concise Version in basic_webscraping.py"
   ]
  }
 ],
 "metadata": {
  "interpreter": {
   "hash": "2477ad58ea0fabfad8a9abd93eeb78f42da272d8f9bd878188fd1171b935f0f3"
  },
  "kernelspec": {
   "display_name": "Python 3.7.8 64-bit",
   "language": "python",
   "name": "python3"
  },
  "language_info": {
   "codemirror_mode": {
    "name": "ipython",
    "version": 3
   },
   "file_extension": ".py",
   "mimetype": "text/x-python",
   "name": "python",
   "nbconvert_exporter": "python",
   "pygments_lexer": "ipython3",
   "version": "3.7.8"
  },
  "orig_nbformat": 4
 },
 "nbformat": 4,
 "nbformat_minor": 2
}
