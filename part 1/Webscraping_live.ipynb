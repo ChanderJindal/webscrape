{
 "cells": [
  {
   "cell_type": "code",
   "execution_count": null,
   "metadata": {},
   "outputs": [],
   "source": [
    "import requests\n",
    "from bs4 import BeautifulSoup"
   ]
  },
  {
   "cell_type": "code",
   "execution_count": null,
   "metadata": {},
   "outputs": [],
   "source": [
    "Site_Link = \"https://www.timesjobs.com/candidate/job-search.html?searchType=personalizedSearch&from=submit&txtKeywords=python&txtLocation=\"\n"
   ]
  },
  {
   "cell_type": "code",
   "execution_count": null,
   "metadata": {},
   "outputs": [],
   "source": [
    "html_file = requests.get(Site_Link)\n",
    "#yes for this you need to be online and it may fail once  or twice\n"
   ]
  },
  {
   "cell_type": "code",
   "execution_count": null,
   "metadata": {},
   "outputs": [],
   "source": [
    "html_file"
   ]
  },
  {
   "cell_type": "code",
   "execution_count": null,
   "metadata": {},
   "outputs": [],
   "source": [
    "html_text = html_file.text"
   ]
  },
  {
   "cell_type": "code",
   "execution_count": null,
   "metadata": {},
   "outputs": [],
   "source": [
    "html_text"
   ]
  },
  {
   "cell_type": "code",
   "execution_count": null,
   "metadata": {},
   "outputs": [],
   "source": [
    "import pprint\n",
    "pprint.pprint(html_text)"
   ]
  },
  {
   "cell_type": "code",
   "execution_count": null,
   "metadata": {},
   "outputs": [],
   "source": [
    "soup = BeautifulSoup(html_text,features=\"lxml\")\n",
    "\n",
    "soup"
   ]
  },
  {
   "cell_type": "markdown",
   "metadata": {},
   "source": [
    "<h3 class=\"joblist-comp-name\">\n",
    "    Pure Tech Codex Private Limited\n",
    "    \n",
    "    </h3>"
   ]
  },
  {
   "cell_type": "code",
   "execution_count": null,
   "metadata": {},
   "outputs": [],
   "source": [
    "Company_Names = soup.find_all('h3', class_ =\"joblist-comp-name\" )\n",
    "for Name in Company_Names:\n",
    "    print(Name.text)"
   ]
  },
  {
   "cell_type": "markdown",
   "metadata": {},
   "source": [
    "<ul class=\"list-job-dtl clearfix\">\n",
    "  \n",
    "  \n",
    "    <li>\n",
    "      <label>Job Description:</label>\n",
    "Job Description: 2 to 3 Years experience in Python.Expert in Python ,  with knowledge of at least one Python web framework  Flask ,  Django etc.Expert in server programming.Go... <a href=\"https://www.timesjobs.com/job-detail/python-pure-tech-codex-private-limited-pune-2-to-3-yrs-jobid-OHwfF0d6EhNzpSvf__PLUS__uAgZw==&amp;source=srp\" target=\"_blank\">More Details</a>\n",
    "      </li>\n",
    "    \n",
    "  <li>\n",
    "    <label>KeySkills:</label>\n",
    "    <span class=\"srp-skills\">\n",
    "      \n",
    "          rest  ,  <strong class=\"blkclor\">python</strong>  ,  database  ,  django  ,  debugging  ,  mongodb\n",
    "        \n",
    "      </span> </li>\n",
    "\t\n",
    "          \n",
    "          \n",
    "<!--\n",
    "            <li>\n",
    "              <i class=\"material-icons\">location_on</i>\n",
    "              Pune\n",
    "              </li>\n",
    "-->\n",
    "            \n",
    "          \n",
    "</ul>"
   ]
  },
  {
   "cell_type": "code",
   "execution_count": null,
   "metadata": {},
   "outputs": [],
   "source": [
    "Company_Names = soup.find_all('h3', class_ =\"joblist-comp-name\")\n",
    "# check rest at https://www.youtube.com/watch?v=XVv6mJpFOb0\n",
    "Job_Desc = soup.find_all('ul' ,class_=\"list-job-dtl clearfix\")\n",
    "for Name , desc in Company_Names, Job_Desc:\n",
    "    print(Name.text , desc.li.text)"
   ]
  }
 ],
 "metadata": {
  "interpreter": {
   "hash": "2477ad58ea0fabfad8a9abd93eeb78f42da272d8f9bd878188fd1171b935f0f3"
  },
  "kernelspec": {
   "display_name": "Python 3.7.8 64-bit",
   "language": "python",
   "name": "python3"
  },
  "language_info": {
   "codemirror_mode": {
    "name": "ipython",
    "version": 3
   },
   "file_extension": ".py",
   "mimetype": "text/x-python",
   "name": "python",
   "nbconvert_exporter": "python",
   "pygments_lexer": "ipython3",
   "version": "3.7.8"
  },
  "orig_nbformat": 4
 },
 "nbformat": 4,
 "nbformat_minor": 2
}
