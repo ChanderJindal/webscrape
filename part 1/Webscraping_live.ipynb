{
 "cells": [
  {
   "cell_type": "code",
   "execution_count": null,
   "metadata": {},
   "outputs": [],
   "source": [
    "import requests\n",
    "from bs4 import BeautifulSoup"
   ]
  },
  {
   "cell_type": "code",
   "execution_count": null,
   "metadata": {},
   "outputs": [],
   "source": [
    "Site_Link = \"https://www.timesjobs.com/candidate/job-search.html?searchType=personalizedSearch&from=submit&txtKeywords=python&txtLocation=\"\n"
   ]
  },
  {
   "cell_type": "code",
   "execution_count": null,
   "metadata": {},
   "outputs": [],
   "source": [
    "html_file = requests.get(Site_Link)\n",
    "#yes for this you need to be online and it may fail once  or twice\n"
   ]
  },
  {
   "cell_type": "code",
   "execution_count": null,
   "metadata": {},
   "outputs": [],
   "source": [
    "html_file"
   ]
  },
  {
   "cell_type": "code",
   "execution_count": null,
   "metadata": {},
   "outputs": [],
   "source": [
    "html_text = html_file.text"
   ]
  },
  {
   "cell_type": "code",
   "execution_count": null,
   "metadata": {},
   "outputs": [],
   "source": [
    "html_text"
   ]
  },
  {
   "cell_type": "code",
   "execution_count": null,
   "metadata": {},
   "outputs": [],
   "source": [
    "import pprint\n",
    "pprint.pprint(html_text)"
   ]
  },
  {
   "cell_type": "code",
   "execution_count": null,
   "metadata": {},
   "outputs": [],
   "source": [
    "soup = BeautifulSoup(html_text,features=\"lxml\")\n",
    "\n",
    "soup"
   ]
  },
  {
   "cell_type": "markdown",
   "metadata": {},
   "source": [
    "<h3 class=\"joblist-comp-name\">\n",
    "    Pure Tech Codex Private Limited\n",
    "    \n",
    "    </h3>"
   ]
  },
  {
   "cell_type": "code",
   "execution_count": null,
   "metadata": {},
   "outputs": [],
   "source": [
    "Company_Names = soup.find_all('h3', class_ =\"joblist-comp-name\" )\n",
    "for Name in Company_Names:\n",
    "    print(Name.text)"
   ]
  },
  {
   "cell_type": "markdown",
   "metadata": {},
   "source": [
    "<ul class=\"list-job-dtl clearfix\">\n",
    "  \n",
    "  \n",
    "    <li>\n",
    "      <label>Job Description:</label>\n",
    "Job Description: 2 to 3 Years experience in Python.Expert in Python ,  with knowledge of at least one Python web framework  Flask ,  Django etc.Expert in server programming.Go... <a href=\"https://www.timesjobs.com/job-detail/python-pure-tech-codex-private-limited-pune-2-to-3-yrs-jobid-OHwfF0d6EhNzpSvf__PLUS__uAgZw==&amp;source=srp\" target=\"_blank\">More Details</a>\n",
    "      </li>\n",
    "    \n",
    "  <li>\n",
    "    <label>KeySkills:</label>\n",
    "    <span class=\"srp-skills\">\n",
    "      \n",
    "          rest  ,  <strong class=\"blkclor\">python</strong>  ,  database  ,  django  ,  debugging  ,  mongodb\n",
    "        \n",
    "      </span> </li>\n",
    "\t\n",
    "          \n",
    "          \n",
    "<!--\n",
    "            <li>\n",
    "              <i class=\"material-icons\">location_on</i>\n",
    "              Pune\n",
    "              </li>\n",
    "-->\n",
    "            \n",
    "          \n",
    "</ul>"
   ]
  },
  {
   "cell_type": "code",
   "execution_count": null,
   "metadata": {},
   "outputs": [],
   "source": [
    "Company_Names = soup.find_all('h3', class_ =\"joblist-comp-name\")\n",
    "# check rest at https://www.youtube.com/watch?v=XVv6mJpFOb0\n",
    "Job_Desc = soup.find_all('ul' ,class_=\"list-job-dtl clearfix\")\n",
    "for Name , desc in Company_Names, Job_Desc:\n",
    "    print(Name.text , desc.li.text)"
   ]
  },
  {
   "cell_type": "markdown",
   "metadata": {},
   "source": [
    "<li class=\"clearfix job-bx wht-shd-bx\">\n",
    "<header class=\"clearfix\">\n",
    "<!-- \n",
    "-->\n",
    "<!--  -->\n",
    "  <h2>       \n",
    "    <a href=\"https://www.timesjobs.com/job-detail/python-pure-tech-codex-private-limited-pune-2-to-3-yrs-jobid-OHwfF0d6EhNzpSvf__PLUS__uAgZw==&amp;source=srp\" target=\"_blank\" onclick=\"logViewUSBT('view','66840090','rest  ,  python  ,  database  ,  django  ,  debugging  ,  mongodb','Pune','2 - 3','IT Software : Software Products &amp; Services','1' )\">\n",
    "      <strong class=\"blkclor\">Python</strong></a> </h2>\n",
    "  <h3 class=\"joblist-comp-name\">\n",
    "    Pure Tech Codex Private Limited\n",
    "    </h3>\n",
    "</header>\n",
    "\t        <ul class=\"top-jd-dtl clearfix\">\n",
    "        <li><i class=\"material-icons\">card_travel</i>2 - 3 yrs</li>\n",
    "\t\t\t\t<li>\n",
    "              <i class=\"material-icons\">location_on</i>\n",
    "              <span title=\"Pune\">Pune</span>\n",
    "              </li>        \n",
    "      </ul>\n",
    "<ul class=\"list-job-dtl clearfix\">\n",
    "    <li>\n",
    "      <label>Job Description:</label>\n",
    "Job Description: 2 to 3 Years experience in Python.Expert in Python ,  with knowledge of at least one Python web framework  Flask ,  Django etc.Expert in server programming.Go... <a href=\"https://www.timesjobs.com/job-detail/python-pure-tech-codex-private-limited-pune-2-to-3-yrs-jobid-OHwfF0d6EhNzpSvf__PLUS__uAgZw==&amp;source=srp\" target=\"_blank\">More Details</a>\n",
    "      </li>\n",
    "  <li>\n",
    "    <label>KeySkills:</label>\n",
    "    <span class=\"srp-skills\">\n",
    "          rest  ,  <strong class=\"blkclor\">python</strong>  ,  database  ,  django  ,  debugging  ,  mongodb\n",
    "      </span> </li>     \n",
    "<!--\n",
    "            <li>\n",
    "              <i class=\"material-icons\">location_on</i>\n",
    "              Pune\n",
    "              </li>\n",
    "-->\n",
    "</ul>\n",
    "  <div class=\"list-job-bt clearfix\">\n",
    "    <div class=\"list-action\">\n",
    "      <div class=\"applied-dtl clearfix\" id=\"showPostApplyData_66840090\">\n",
    "          <a href=\"javascript:callExtJobApply('66840090','adId=OHwfF0d6EhNzpSvf__PLUS__uAgZw==&amp;compName=Career Progress Consultants','TJPFSRP');\" onclick=\"trackClickEvent('View_AND_Apply_SRP','from_srp_externalJobs');logViewUSBT('apply','66840090','rest  ,  python  ,  database  ,  django  ,  debugging  ,  mongodb','Pune','2 - 3','IT Software : Software Products &amp; Services','1')\" class=\"waves-effect waves-light btn\">Apply</a>  \n",
    "\t\t  <span class=\"jobs-status clearfix\">\n",
    "<!--\n",
    "       <i class=\"material-icons trnding-up\" title=\"Recently posted job, Recruiter is actively looking for candidates\">check_circle</i>\n",
    "        \n",
    "-->\n",
    "    </span>\n",
    "    <span class=\"sim-posted\">\n",
    "\t\t\t<span>Posted 6 days ago</span>\n",
    "        </span>\n",
    "      </div>\n",
    "      </div>\n",
    "     </div>\n",
    "        </li>"
   ]
  },
  {
   "cell_type": "markdown",
   "metadata": {},
   "source": [
    "The one above is full info of 1 job in description, it's put here physically to view the format and pick the items/tags needed\n"
   ]
  },
  {
   "cell_type": "code",
   "execution_count": null,
   "metadata": {},
   "outputs": [],
   "source": [
    "job = soup.find('li', class_=\"clearfix job-bx wht-shd-bx\")\n",
    "#li is list , it's a list which contains all the info about the job described on site\n",
    "job"
   ]
  },
  {
   "cell_type": "code",
   "execution_count": null,
   "metadata": {},
   "outputs": [],
   "source": [
    "link = job.a\n",
    "print(link)"
   ]
  },
  {
   "cell_type": "code",
   "execution_count": null,
   "metadata": {},
   "outputs": [],
   "source": [
    "title = job.find('h3' ,class_=\"joblist-comp-name\").text.strip()\n",
    "print(title,type(title))"
   ]
  },
  {
   "cell_type": "code",
   "execution_count": null,
   "metadata": {},
   "outputs": [],
   "source": [
    "KeySkills = job.find_all('li')\n",
    "for i in KeySkills:\n",
    "    print(i,end=\"\\n!!!!!!!!!!!!!1\\n\")"
   ]
  },
  {
   "cell_type": "code",
   "execution_count": null,
   "metadata": {},
   "outputs": [],
   "source": [
    "JobDesc = KeySkills[-2]#it's 2nd last\n",
    "KeySkills = KeySkills[-1]#it's last\n",
    "\n",
    "JobDesc , KeySkills"
   ]
  },
  {
   "cell_type": "code",
   "execution_count": null,
   "metadata": {},
   "outputs": [],
   "source": [
    "JobDesc.text.strip()"
   ]
  },
  {
   "cell_type": "code",
   "execution_count": null,
   "metadata": {},
   "outputs": [],
   "source": [
    "JobDesc = list(JobDesc.text.replace('\\n','').replace('\\r','').split(':'))\n",
    "Description = JobDesc[-1]"
   ]
  },
  {
   "cell_type": "code",
   "execution_count": null,
   "metadata": {},
   "outputs": [],
   "source": [
    "Description"
   ]
  },
  {
   "cell_type": "code",
   "execution_count": null,
   "metadata": {},
   "outputs": [],
   "source": [
    "KeySkills.text.replace('  ','').replace('\\n','').replace('\\r','')"
   ]
  },
  {
   "cell_type": "code",
   "execution_count": null,
   "metadata": {},
   "outputs": [],
   "source": [
    "type(KeySkills)"
   ]
  },
  {
   "cell_type": "code",
   "execution_count": null,
   "metadata": {},
   "outputs": [],
   "source": [
    "temp = list(KeySkills.text.replace('  ','').replace('\\n','').replace('\\r','').split(':'))"
   ]
  },
  {
   "cell_type": "code",
   "execution_count": null,
   "metadata": {},
   "outputs": [],
   "source": [
    "temp"
   ]
  },
  {
   "cell_type": "code",
   "execution_count": null,
   "metadata": {},
   "outputs": [],
   "source": [
    "temp[-1] = list(temp[-1].split(','))"
   ]
  },
  {
   "cell_type": "code",
   "execution_count": null,
   "metadata": {},
   "outputs": [],
   "source": [
    "temp"
   ]
  },
  {
   "cell_type": "code",
   "execution_count": null,
   "metadata": {},
   "outputs": [],
   "source": [
    "print(temp[0], \"are :- \")\n",
    "for i in temp[-1]:\n",
    "    print(i)"
   ]
  },
  {
   "cell_type": "code",
   "execution_count": null,
   "metadata": {},
   "outputs": [],
   "source": [
    "Skills_Req = temp[-1]"
   ]
  },
  {
   "cell_type": "markdown",
   "metadata": {},
   "source": [
    "<span class=\"sim-posted\">\n",
    "\t\t\t<span>Posted 6 days ago</span> \n",
    "        </span>"
   ]
  },
  {
   "cell_type": "markdown",
   "metadata": {},
   "source": [
    "This above is to see when was the job posted"
   ]
  },
  {
   "cell_type": "code",
   "execution_count": null,
   "metadata": {},
   "outputs": [],
   "source": [
    "Posted = job.find('span' , class_=\"sim-posted\")"
   ]
  },
  {
   "cell_type": "code",
   "execution_count": null,
   "metadata": {},
   "outputs": [],
   "source": [
    "Posted"
   ]
  },
  {
   "cell_type": "code",
   "execution_count": null,
   "metadata": {},
   "outputs": [],
   "source": [
    "Posted = Posted.text.replace('\\n','').strip()"
   ]
  },
  {
   "cell_type": "code",
   "execution_count": null,
   "metadata": {},
   "outputs": [],
   "source": [
    "Posted"
   ]
  },
  {
   "cell_type": "code",
   "execution_count": null,
   "metadata": {},
   "outputs": [],
   "source": [
    "print(f'''\n",
    "Company Name: {title}\n",
    "Skills Required: {Skills_Req}\n",
    "Job Description: {Description}\n",
    "{Posted}\n",
    "''')"
   ]
  },
  {
   "cell_type": "markdown",
   "metadata": {},
   "source": [
    "#Now Trying on a bigger lvl"
   ]
  },
  {
   "cell_type": "code",
   "execution_count": null,
   "metadata": {},
   "outputs": [],
   "source": [
    "jobs = soup.find_all('li', class_=\"clearfix job-bx wht-shd-bx\")\n",
    "\n",
    "for j in jobs:\n",
    "    print(j,end=\"\\n\\n\\n\")"
   ]
  },
  {
   "cell_type": "code",
   "execution_count": null,
   "metadata": {},
   "outputs": [],
   "source": [
    "j = jobs[0]\n",
    "j"
   ]
  },
  {
   "cell_type": "code",
   "execution_count": null,
   "metadata": {},
   "outputs": [],
   "source": [
    "def remove_rn(s):\n",
    "    return s.replace('\\r','').replace('\\n','').strip()"
   ]
  },
  {
   "cell_type": "code",
   "execution_count": null,
   "metadata": {},
   "outputs": [],
   "source": [
    "def remove_rn_lst(lst):\n",
    "    for i in range(len(lst)):\n",
    "        lst[i] = remove_rn(lst[i])\n",
    "    return lst"
   ]
  },
  {
   "cell_type": "code",
   "execution_count": null,
   "metadata": {},
   "outputs": [],
   "source": [
    "def check_dated(date):\n",
    "    lst_temp = date.split(' ')\n",
    "    if lst_temp[1] == \"few\":\n",
    "        return True\n",
    "    try:\n",
    "        val = int(lst_temp[1])\n",
    "        if val < 11:\n",
    "            return True\n",
    "        return False\n",
    "    except:\n",
    "        return False\n",
    "    return False\n",
    "    # format     Posted 6 days ago\n",
    "    #     Posted few days ago\n",
    "    #    Posted a month ago\n"
   ]
  },
  {
   "cell_type": "code",
   "execution_count": null,
   "metadata": {},
   "outputs": [],
   "source": [
    "for j in jobs:\n",
    "    post = remove_rn(j.find('span' , class_=\"sim-posted\").text)\n",
    "    if(check_dated(post) is False):\n",
    "        continue\n",
    "    name = remove_rn(j.find('h3', class_ =\"joblist-comp-name\").text)\n",
    "    temp = j.find_all('li')\n",
    "    desc = remove_rn(temp[-2].text).split(':')[-1]\n",
    "    skills = remove_rn(temp[-1].text).split(':')[-1].split(',')\n",
    "    print(f'''\n",
    "    Company Name: {name}\n",
    "    Skills Required: {remove_rn_lst(skills)}\n",
    "    Job Description: {desc[0:len(desc)-len(\"... More Details\")]}.\n",
    "    {post}\n",
    "    ''')\n",
    "    "
   ]
  }
 ],
 "metadata": {
  "interpreter": {
   "hash": "2477ad58ea0fabfad8a9abd93eeb78f42da272d8f9bd878188fd1171b935f0f3"
  },
  "kernelspec": {
   "display_name": "Python 3.7.8 64-bit",
   "language": "python",
   "name": "python3"
  },
  "language_info": {
   "codemirror_mode": {
    "name": "ipython",
    "version": 3
   },
   "file_extension": ".py",
   "mimetype": "text/x-python",
   "name": "python",
   "nbconvert_exporter": "python",
   "pygments_lexer": "ipython3",
   "version": "3.7.8"
  },
  "orig_nbformat": 4
 },
 "nbformat": 4,
 "nbformat_minor": 2
}
