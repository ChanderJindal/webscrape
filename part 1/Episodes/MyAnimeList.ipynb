{
 "cells": [
  {
   "cell_type": "markdown",
   "metadata": {},
   "source": [
    "Site - MyAnimeList"
   ]
  },
  {
   "cell_type": "markdown",
   "metadata": {},
   "source": [
    "Link - https://myanimelist.net/anime/235/Detective_Conan/episode"
   ]
  },
  {
   "cell_type": "code",
   "execution_count": null,
   "metadata": {},
   "outputs": [],
   "source": [
    "Site_Link = \"https://myanimelist.net/anime/235/Detective_Conan/episode\""
   ]
  },
  {
   "cell_type": "code",
   "execution_count": null,
   "metadata": {},
   "outputs": [],
   "source": [
    "import requests"
   ]
  },
  {
   "cell_type": "code",
   "execution_count": null,
   "metadata": {},
   "outputs": [],
   "source": [
    "html_file = requests.get(Site_Link)"
   ]
  },
  {
   "cell_type": "code",
   "execution_count": null,
   "metadata": {},
   "outputs": [],
   "source": [
    "html_file"
   ]
  },
  {
   "cell_type": "markdown",
   "metadata": {},
   "source": [
    "<Response [200]> It allows requests!"
   ]
  },
  {
   "cell_type": "code",
   "execution_count": null,
   "metadata": {},
   "outputs": [],
   "source": [
    "html_code = html_file.text"
   ]
  },
  {
   "cell_type": "code",
   "execution_count": null,
   "metadata": {},
   "outputs": [],
   "source": [
    "from bs4 import BeautifulSoup\n",
    "soup = BeautifulSoup(html_code,features=\"lxml\")\n",
    "soup"
   ]
  },
  {
   "cell_type": "markdown",
   "metadata": {},
   "source": [
    "<div class=\"pagination ac\">\n",
    "<a class=\"link current\" href=\"https://myanimelist.net/anime/235/Detective_Conan/episode?offset=0\">1 - 100</a>\n",
    "<a class=\"link\" href=\"https://myanimelist.net/anime/235/Detective_Conan/episode?offset=100\">101 - 200</a>\n",
    "<a class=\"link\" href=\"https://myanimelist.net/anime/235/Detective_Conan/episode?offset=200\">201 - 300</a>\n",
    "<span class=\"skip\">&gt;</span>\n",
    "<a class=\"link\" href=\"https://myanimelist.net/anime/235/Detective_Conan/episode?offset=1000\">1001 - 1035</a>\n",
    "</div>"
   ]
  },
  {
   "cell_type": "code",
   "execution_count": null,
   "metadata": {},
   "outputs": [],
   "source": [
    "EpRange = soup.find('div', class_ = \"pagination ac\" )\n",
    "EpRange.text"
   ]
  },
  {
   "cell_type": "code",
   "execution_count": null,
   "metadata": {},
   "outputs": [],
   "source": [
    "LatestOne = EpRange.find_all('a',class_ = \"link\")[-1]\n",
    "LatestOne"
   ]
  },
  {
   "cell_type": "code",
   "execution_count": null,
   "metadata": {},
   "outputs": [],
   "source": [
    "NewLink = LatestOne[\"href\"]"
   ]
  },
  {
   "cell_type": "code",
   "execution_count": null,
   "metadata": {},
   "outputs": [],
   "source": [
    "type(NewLink)"
   ]
  },
  {
   "cell_type": "code",
   "execution_count": null,
   "metadata": {},
   "outputs": [],
   "source": [
    "soup = BeautifulSoup(requests.get(NewLink).text,features=\"lxml\")\n",
    "soup"
   ]
  },
  {
   "cell_type": "markdown",
   "metadata": {},
   "source": [
    "Got from the Old site to Latest Ep range Page!"
   ]
  },
  {
   "cell_type": "markdown",
   "metadata": {},
   "source": [
    "<tr class=\"episode-list-data\">\n",
    "        <td class=\"episode-number nowrap\">1036</td>\n",
    "        <td class=\"episode-video nowrap\"><a href=\"https://myanimelist.net/anime/235/Detective_Conan/episode/1036\" class=\"mal-icon\" title=\"Watch Episode #1036\"><i class=\"malicon malicon-movie-episode\"></i></a></td>\n",
    "        <td class=\"episode-title\"><a href=\"https://myanimelist.net/anime/235/Detective_Conan/episode/1036\" class=\"fl-l fw-b \">Whiteout (Part One)</a>\n",
    "          <br><span class=\"di-ib\"></span>\n",
    "        </td>\n",
    "        <td class=\"episode-aired nowrap\">N/A</td>\n",
    "        <td class=\"episode-forum ac nowrap\">\n",
    "          <a href=\"https://myanimelist.net/forum/?topicid=1990411\"><i class=\"fa-solid fa-comments mr4\"></i>Forum</a></td>\n",
    "      </tr>"
   ]
  },
  {
   "cell_type": "markdown",
   "metadata": {},
   "source": [
    "This is where the latest ep details are set, it's last one"
   ]
  },
  {
   "cell_type": "code",
   "execution_count": null,
   "metadata": {},
   "outputs": [],
   "source": [
    "EpList = soup.find('body')"
   ]
  },
  {
   "cell_type": "code",
   "execution_count": null,
   "metadata": {},
   "outputs": [],
   "source": [
    "EpList"
   ]
  },
  {
   "cell_type": "markdown",
   "metadata": {},
   "source": [
    "Turns out there is a copy in Reverse of <tr> </tr> in here, with some extra similar tags"
   ]
  },
  {
   "cell_type": "markdown",
   "metadata": {},
   "source": [
    "<td class=\"episode-title\"><a href=\"https://myanimelist.net/anime/235/Detective_Conan/episode/1036\" class=\"fl-l fw-b \">Whiteout (Part One)</a>\n",
    "          <br><span class=\"di-ib\"></span>\n",
    "        </td>"
   ]
  },
  {
   "cell_type": "markdown",
   "metadata": {},
   "source": [
    "Trying with Ep Title Tag"
   ]
  },
  {
   "cell_type": "code",
   "execution_count": null,
   "metadata": {},
   "outputs": [],
   "source": [
    "LatestEp = soup.find_all('td', class_=\"episode-title\")\n",
    "LatestEp"
   ]
  },
  {
   "cell_type": "markdown",
   "metadata": {},
   "source": [
    "Same Issue with this one"
   ]
  },
  {
   "cell_type": "markdown",
   "metadata": {},
   "source": [
    " <td class=\"episode-title\"><a class=\"fl-l fw-b\" href=\"https://myanimelist.net/anime/235/Detective_Conan/episode/1036\">Whiteout (Part One)</a>\n",
    " <br/><span class=\"di-ib\"></span>\n",
    " </td>,\n",
    " <td class=\"episode-title\">Episode Title</td>,\n",
    " <td class=\"episode-title\"><a class=\"fw-b\" href=\"https://myanimelist.net/anime/235/Detective_Conan/episode/1036\">Whiteout (Part One)</a>\n",
    " <br/><span class=\"di-ib\"></span>\n",
    " </td>,"
   ]
  },
  {
   "cell_type": "markdown",
   "metadata": {},
   "source": [
    "New Try"
   ]
  },
  {
   "cell_type": "code",
   "execution_count": null,
   "metadata": {},
   "outputs": [],
   "source": [
    "LatestEp = soup.find_all('a', class_=\"fl-l fw-b\")[-1]\n",
    "LatestEp"
   ]
  },
  {
   "cell_type": "markdown",
   "metadata": {},
   "source": [
    "YES!"
   ]
  },
  {
   "cell_type": "code",
   "execution_count": null,
   "metadata": {},
   "outputs": [],
   "source": [
    "print(LatestEp[\"href\"])"
   ]
  },
  {
   "cell_type": "code",
   "execution_count": null,
   "metadata": {},
   "outputs": [],
   "source": [
    "EpisodeName = LatestEp.text\n",
    "print(EpisodeName)"
   ]
  },
  {
   "cell_type": "code",
   "execution_count": null,
   "metadata": {},
   "outputs": [],
   "source": [
    "EpisodeNumber = LatestEp[\"href\"].split('/')[-1]\n",
    "print(EpisodeNumber)"
   ]
  },
  {
   "cell_type": "code",
   "execution_count": null,
   "metadata": {},
   "outputs": [],
   "source": [
    "Base_Link = \"https://animixplay.to/v1/detective-conan\"\n",
    "Ep_Link = \"https://animixplay.to/v1/detective-conan/ep1036\""
   ]
  },
  {
   "cell_type": "code",
   "execution_count": null,
   "metadata": {},
   "outputs": [],
   "source": [
    "LatestEp_Link = Base_Link + \"/ep\" + str(EpisodeNumber)\n",
    "print(LatestEp_Link)"
   ]
  },
  {
   "cell_type": "markdown",
   "metadata": {},
   "source": [
    "Now I have Latest ep Title, Number and a Link!"
   ]
  },
  {
   "cell_type": "markdown",
   "metadata": {},
   "source": [
    "Extra"
   ]
  },
  {
   "cell_type": "code",
   "execution_count": null,
   "metadata": {},
   "outputs": [],
   "source": [
    "LatestEp[\"href\"]"
   ]
  },
  {
   "cell_type": "code",
   "execution_count": null,
   "metadata": {},
   "outputs": [],
   "source": [
    "Discussion_file = requests.get(LatestEp[\"href\"])\n",
    "Discussion_file"
   ]
  },
  {
   "cell_type": "code",
   "execution_count": null,
   "metadata": {},
   "outputs": [],
   "source": [
    "Discussion_html = Discussion_file.text\n"
   ]
  },
  {
   "cell_type": "code",
   "execution_count": null,
   "metadata": {},
   "outputs": [],
   "source": [
    "soup = BeautifulSoup(Discussion_html,features=\"lxml\")\n",
    "soup"
   ]
  },
  {
   "cell_type": "markdown",
   "metadata": {},
   "source": [
    "<li class=\"btn-anime play\">\n",
    "<a href=\"/anime/235/Detective_Conan/episode/1036\" class=\"link clearfix\">\n",
    "<span title=\"Paid\" class=\"fl-r icon-pay\">\n",
    "</span>\n",
    "<img src=\"https://img1.ak.crunchyroll.com/i/spire1-tmb/8616d880f2b49ecc0c11e783a95806f41643419108_large.jpg\" width=\"100\" height=\"67\" alt=\"\" class=\"fl-l\" style=\"object-fit: cover;\">\n",
    "<div class=\"text\">\n",
    "<i class=\"fa-regular fa-circle-play icon-play mr4\">\n",
    "</i>\n",
    "<span class=\"episode-number\">Episode 1036</span><\n",
    "br>\n",
    "            Whiteout (Part One)\n",
    "          </div>\n",
    "          </a>\n",
    "          </li>"
   ]
  },
  {
   "cell_type": "markdown",
   "metadata": {},
   "source": [
    "Picking up a little Extra"
   ]
  },
  {
   "cell_type": "code",
   "execution_count": null,
   "metadata": {},
   "outputs": [],
   "source": [
    "Play_Area = soup.find_all('li' ,class_=\"btn-anime play\")\n",
    "Play_Area\n"
   ]
  },
  {
   "cell_type": "code",
   "execution_count": null,
   "metadata": {},
   "outputs": [],
   "source": [
    "img = soup.find_all('img')\n",
    "img"
   ]
  },
  {
   "cell_type": "markdown",
   "metadata": {},
   "source": [
    "<div class=\"text\"><i class=\"fa-regular fa-circle-play icon-play mr4\"></i><span class=\"episode-number\">Episode 1036</span><br>\n",
    "            Whiteout (Part One)\n",
    "          </div>"
   ]
  },
  {
   "cell_type": "markdown",
   "metadata": {},
   "source": [
    "These is some issue with the link?"
   ]
  },
  {
   "cell_type": "markdown",
   "metadata": {},
   "source": [
    "<div class=\"video-anime-slide-block hori\">\n",
    "<div class=\"video-anime-slide-outer js-video-anime-slide-outer\" data-slide=\"3\">\n",
    "<ul id=\"vue-video-slide\" class=\"video-anime-slide js-video-anime-slide\" style=\"left: -2976px;\">\n",
    "<li class=\"btn-anime\">\n",
    "<a href=\"/anime/235/Detective_Conan/episode/1021\" class=\"link clearfix\">\n",
    "<span title=\"Paid\" class=\"fl-r\">\n",
    "</span>\n",
    "<img src=\"https://img1.ak.crunchyroll.com/i/spire4-tmb/c7735804df1d6578e3d213ccbb3cd1ae1633154831_large.jpg\" width=\"100\" height=\"67\" alt=\"\" class=\"fl-l\" style=\"object-fit: cover;\">\n",
    "<!---->\n",
    "<div class=\"text\"><!----><span class=\"episode-number\">Episode 1021</span><br>\n",
    "            Rondo in Bad Company\n",
    "          </div></a></li><li class=\"btn-anime\"><a href=\"/anime/235/Detective_Conan/episode/1022\" class=\"link clearfix\"><span title=\"Paid\" class=\"fl-r\"></span><img src=\"https://img1.ak.crunchyroll.com/i/spire3-tmb/2c8524e8a531da611fbe5c41f6bec5091633763887_large.jpg\" width=\"100\" height=\"67\" alt=\"\" class=\"fl-l\" style=\"object-fit: cover;\">\n",
    "          <!---->\n",
    "          <div class=\"text\">\n",
    "          <!---->\n",
    "          <span class=\"episode-number\">Episode 1022</span><br>\n",
    "            The Cursed Museum\n",
    "          </div></a></li><li class=\"btn-anime\"><a href=\"/anime/235/Detective_Conan/episode/1023\" class=\"link clearfix\"><span title=\"Paid\" class=\"fl-r\"></span><img src=\"https://img1.ak.crunchyroll.com/i/spire3-tmb/6748012ec680079883dd6958cb1fd0ce1634365000_large.jpg\" width=\"100\" height=\"67\" alt=\"\" class=\"fl-l\" style=\"object-fit: cover;\"><!----><div class=\"text\"><!----><span class=\"episode-number\">Episode 1023</span><br>\n",
    "            The Whistling Bookstore 3\n",
    "          </div></a></li><li class=\"btn-anime\"><a href=\"/anime/235/Detective_Conan/episode/1024\" class=\"link clearfix\"><span title=\"Paid\" class=\"fl-r\"></span><img src=\"https://img1.ak.crunchyroll.com/i/spire4-tmb/c2c0fbb85c9e4b08c0ac278f1fc151e31635583338_large.jpg\" width=\"100\" height=\"67\" alt=\"\" class=\"fl-l\" style=\"object-fit: cover;\"><!----><div class=\"text\"><!----><span class=\"episode-number\">Episode 1024</span><br>\n",
    "            Ooka Momiji's Challenge (Part One)\n",
    "          </div></a></li><li class=\"btn-anime\"><a href=\"/anime/235/Detective_Conan/episode/1025\" class=\"link clearfix\"><span title=\"Paid\" class=\"fl-r\"></span><img src=\"https://img1.ak.crunchyroll.com/i/spire1-tmb/71f766394cdb80d976b6078dd1b02f6e1636180624_large.jpg\" width=\"100\" height=\"67\" alt=\"\" class=\"fl-l\" style=\"object-fit: cover;\"><!----><div class=\"text\"><!----><span class=\"episode-number\">Episode 1025</span><br>\n",
    "            Ooka Momiji's Challenge (Part Two)\n",
    "          </div></a></li><li class=\"btn-anime\"><a href=\"/anime/235/Detective_Conan/episode/1026\" class=\"link clearfix\"><span title=\"Paid\" class=\"fl-r\"></span><img src=\"https://img1.ak.crunchyroll.com/i/spire3-tmb/2381e1053262a6316039f104f83c84f31636793293_large.jpg\" width=\"100\" height=\"67\" alt=\"\" class=\"fl-l\" style=\"object-fit: cover;\"><!----><div class=\"text\"><!----><span class=\"episode-number\">Episode 1026</span><br>\n",
    "            The Wordless Witness\n",
    "          </div></a></li><li class=\"btn-anime\"><a href=\"/anime/235/Detective_Conan/episode/1027\" class=\"link clearfix\"><span title=\"Paid\" class=\"fl-r\"></span><img src=\"https://img1.ak.crunchyroll.com/i/spire4-tmb/6e610ad33d6aca106b563c55eacd3c931637369816_large.jpg\" width=\"100\" height=\"67\" alt=\"\" class=\"fl-l\" style=\"object-fit: cover;\"><!----><div class=\"text\"><!----><span class=\"episode-number\">Episode 1027</span><br>\n",
    "            Beyond the Curtain\n",
    "          </div></a></li><li class=\"btn-anime\"><a href=\"/anime/235/Detective_Conan/episode/1028\" class=\"link clearfix\"><span title=\"Paid\" class=\"fl-r\"></span><img src=\"https://img1.ak.crunchyroll.com/i/spire2-tmb/a5b2cfae4e3feecfae0f98911819c39c1638009843_large.jpg\" width=\"100\" height=\"67\" alt=\"\" class=\"fl-l\" style=\"object-fit: cover;\"><!----><div class=\"text\"><!----><span class=\"episode-number\">Episode 1028</span><br>\n",
    "            Ballad of the Woman Who Loved Cake\n",
    "          </div></a></li><li class=\"btn-anime\"><a href=\"/anime/235/Detective_Conan/episode/1029\" class=\"link clearfix\"><span title=\"Paid\" class=\"fl-r\"></span><img src=\"https://img1.ak.crunchyroll.com/i/spire1-tmb/17cef6731473d1208f7f29371d5cfcbe1638614041_large.jpg\" width=\"100\" height=\"67\" alt=\"\" class=\"fl-l\" style=\"object-fit: cover;\"><!----><div class=\"text\"><!----><span class=\"episode-number\">Episode 1029</span><br>\n",
    "            Police Academy Arc Wild Police Story CASE. Matsuda Jinpei\n",
    "          </div></a></li><li class=\"btn-anime\"><a href=\"/anime/235/Detective_Conan/episode/1030\" class=\"link clearfix\"><span title=\"Paid\" class=\"fl-r\"></span><img src=\"https://img1.ak.crunchyroll.com/i/spire3-tmb/17977fac6d180650ecdd0eccccf19e681639209049_large.jpg\" width=\"100\" height=\"67\" alt=\"\" class=\"fl-l\" style=\"object-fit: cover;\"><!----><div class=\"text\"><!----><span class=\"episode-number\">Episode 1030</span><br>\n",
    "            The Blank Year (Part One)\n",
    "          </div></a></li><li class=\"btn-anime\"><a href=\"/anime/235/Detective_Conan/episode/1031\" class=\"link clearfix\"><span title=\"Paid\" class=\"fl-r\"></span><img src=\"https://img1.ak.crunchyroll.com/i/spire1-tmb/850e9b6323813e3e4ca9c33b612216f31639822219_large.jpg\" width=\"100\" height=\"67\" alt=\"\" class=\"fl-l\" style=\"object-fit: cover;\"><!----><div class=\"text\"><!----><span class=\"episode-number\">Episode 1031</span><br>\n",
    "            The Blank Year (Part Two)\n",
    "          </div></a></li><li class=\"btn-anime\"><a href=\"/anime/235/Detective_Conan/episode/1032\" class=\"link clearfix\"><span title=\"Paid\" class=\"fl-r\"></span><img src=\"https://img1.ak.crunchyroll.com/i/spire3-tmb/3b6a2389cf4e73660d5cb626f5ff3b061640432787_large.jpg\" width=\"100\" height=\"67\" alt=\"\" class=\"fl-l\" style=\"object-fit: cover;\"><!----><div class=\"text\"><!----><span class=\"episode-number\">Episode 1032</span><br>\n",
    "            Mori Ran, the Model\n",
    "          </div></a></li><li class=\"btn-anime\"><a href=\"/anime/235/Detective_Conan/episode/1033\" class=\"link clearfix\"><span title=\"Paid\" class=\"fl-r\"></span><img src=\"https://img1.ak.crunchyroll.com/i/spire4-tmb/724e5bee853ab687e08a487ff9faf4d71641628987_large.jpg\" width=\"100\" height=\"67\" alt=\"\" class=\"fl-l\" style=\"object-fit: cover;\"><!----><div class=\"text\"><!----><span class=\"episode-number\">Episode 1033</span><br>\n",
    "            Taiko Meijin's Shogi Board (Opening Move)\n",
    "          </div></a></li><li class=\"btn-anime\"><a href=\"/anime/235/Detective_Conan/episode/1034\" class=\"link clearfix\"><span title=\"Paid\" class=\"fl-r\"></span><img src=\"https://img1.ak.crunchyroll.com/i/spire1-tmb/94e6aac9b642d4845deb23480965ceca1642226187_large.jpg\" width=\"100\" height=\"67\" alt=\"\" class=\"fl-l\" style=\"object-fit: cover;\"><!----><div class=\"text\"><!----><span class=\"episode-number\">Episode 1034</span><br>\n",
    "            Taiko Meijin's Shogi Board (Brilliant Move)\n",
    "          </div></a></li><li class=\"btn-anime\"><a href=\"/anime/235/Detective_Conan/episode/1035\" class=\"link clearfix\"><span title=\"Paid\" class=\"fl-r\"></span><img src=\"https://img1.ak.crunchyroll.com/i/spire1-tmb/f50e853bbe6577fc01f468577c4c983d1642830292_large.jpg\" width=\"100\" height=\"67\" alt=\"\" class=\"fl-l\" style=\"object-fit: cover;\"><!----><div class=\"text\"><!----><span class=\"episode-number\">Episode 1035</span><br>\n",
    "            Taiko Meijin's Shogi Board (Checkmate)\n",
    "          </div></a></li><li class=\"btn-anime play\"><a href=\"/anime/235/Detective_Conan/episode/1036\" class=\"link clearfix\"><span title=\"Paid\" class=\"fl-r icon-pay\"></span><img src=\"https://img1.ak.crunchyroll.com/i/spire1-tmb/8616d880f2b49ecc0c11e783a95806f41643419108_large.jpg\" width=\"100\" height=\"67\" alt=\"\" class=\"fl-l\" style=\"object-fit: cover;\"><!----><div class=\"text\"><i class=\"fa-regular fa-circle-play icon-play mr4\"></i><span class=\"episode-number\">Episode 1036</span><br>\n",
    "            Whiteout (Part One)\n",
    "          </div></a></li></ul><div class=\"video-loading\"><i class=\"fa-solid fa-spinner fa-pulse fa-3x video-loading-spinner\"></i></div></div></div>"
   ]
  },
  {
   "cell_type": "code",
   "execution_count": null,
   "metadata": {},
   "outputs": [],
   "source": [
    "temp = soup.find_all('div', class_=\"video-anime-slide-block hori\")\n",
    "temp"
   ]
  },
  {
   "cell_type": "markdown",
   "metadata": {},
   "source": [
    "<img src=\"https://img1.ak.crunchyroll.com/i/spire1-tmb/8616d880f2b49ecc0c11e783a95806f41643419108_large.jpg\" width=\"100\" height=\"67\" alt=\"\" class=\"fl-l\" style=\"object-fit: cover;\">\n"
   ]
  },
  {
   "cell_type": "code",
   "execution_count": null,
   "metadata": {},
   "outputs": [],
   "source": [
    "temp = soup.find_all('img',class_ = \"f1-1\")"
   ]
  },
  {
   "cell_type": "code",
   "execution_count": null,
   "metadata": {},
   "outputs": [],
   "source": [
    "soup = BeautifulSoup( requests.get(\"https://myanimelist.net/anime/235/Detective_Conan/episode/1036\").text ,features=\"lxml\").find_all('img',class_ = \"f1-1\")\n"
   ]
  },
  {
   "cell_type": "markdown",
   "metadata": {},
   "source": [
    "Can't pick those images"
   ]
  }
 ],
 "metadata": {
  "interpreter": {
   "hash": "2477ad58ea0fabfad8a9abd93eeb78f42da272d8f9bd878188fd1171b935f0f3"
  },
  "kernelspec": {
   "display_name": "Python 3.7.8 64-bit",
   "language": "python",
   "name": "python3"
  },
  "language_info": {
   "codemirror_mode": {
    "name": "ipython",
    "version": 3
   },
   "file_extension": ".py",
   "mimetype": "text/x-python",
   "name": "python",
   "nbconvert_exporter": "python",
   "pygments_lexer": "ipython3",
   "version": "3.7.8"
  },
  "orig_nbformat": 4
 },
 "nbformat": 4,
 "nbformat_minor": 2
}
